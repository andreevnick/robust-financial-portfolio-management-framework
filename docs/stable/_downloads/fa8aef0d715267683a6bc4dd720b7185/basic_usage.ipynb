{
 "cells": [
  {
   "cell_type": "markdown",
   "id": "right-qatar",
   "metadata": {},
   "source": [
    "# How-To, First Steps\n",
    "\n",
    "## Load package and create basic options"
   ]
  },
  {
   "cell_type": "code",
   "execution_count": 1,
   "id": "swiss-comedy",
   "metadata": {},
   "outputs": [],
   "source": [
    "import os\n",
    "import sys\n",
    "sys.path.insert(0, os.path.abspath('../'))\n",
    "\n",
    "from guaranteed.finance import make_option"
   ]
  },
  {
   "cell_type": "markdown",
   "id": "spread-hundred",
   "metadata": {},
   "source": [
    "Let's start with some basic options. Remember that 1D PutOnMax is just Put (the same goes for CallOnMax)"
   ]
  },
  {
   "cell_type": "code",
   "execution_count": 2,
   "id": "realistic-gates",
   "metadata": {},
   "outputs": [],
   "source": [
    "option1 = make_option(option_type='putonmax', strike=90)\n",
    "option2 = make_option(option_type='putonmax', strike=80, payoff_dates = 5)\n",
    "option3 = make_option(option_type='callonmax', strike=90, payoff_dates = [3,5])\n",
    "option4 = make_option(option_type='put2call1') # American Put2Call1 option"
   ]
  },
  {
   "cell_type": "markdown",
   "id": "amateur-reduction",
   "metadata": {},
   "source": [
    "Now let's see how these options got instantiated"
   ]
  },
  {
   "cell_type": "code",
   "execution_count": 3,
   "id": "circular-circuit",
   "metadata": {},
   "outputs": [
    {
     "name": "stdout",
     "output_type": "stream",
     "text": [
      "Option 1: <guaranteed.finance.derivatives.AmericanOption object at 0x10989dd90>\n",
      "Option 2: <guaranteed.finance.derivatives.EuropeanOption object at 0x10989dd30>\n",
      "Option 3: <guaranteed.finance.derivatives.BermudanOption object at 0x102b9a3a0>\n",
      "Option 4: <guaranteed.finance.derivatives.AmericanOption object at 0x102b9a2b0>\n"
     ]
    }
   ],
   "source": [
    "print('Option 1: {}'.format(option1))\n",
    "print('Option 2: {}'.format(option2))\n",
    "print('Option 3: {}'.format(option3))\n",
    "print('Option 4: {}'.format(option4))"
   ]
  },
  {
   "cell_type": "code",
   "execution_count": 4,
   "id": "apart-sunday",
   "metadata": {},
   "outputs": [
    {
     "name": "stdout",
     "output_type": "stream",
     "text": [
      "Option 1 payoff at x = 80, 90, and 100, t = 3: [10.  0.  0.]\n",
      "Option 2 payoff at x = 100, t = 3: [-inf]\n",
      "Option 3 payoff at x = 100, t = 3: [10.]\n",
      "Option 3 payoff at x = 100, t = 4: [-inf]\n"
     ]
    }
   ],
   "source": [
    "print('Option 1 payoff at x = 80, 90, and 100, t = 3: {}'.format(option1.payoff([[80], [90], [100]], 3)))\n",
    "print('Option 2 payoff at x = 100, t = 3: {}'.format(option2.payoff(100, 3)))\n",
    "print('Option 3 payoff at x = 100, t = 3: {}'.format(option3.payoff(100, 3)))\n",
    "print('Option 3 payoff at x = 100, t = 4: {}'.format(option3.payoff(100, 4)))"
   ]
  },
  {
   "cell_type": "markdown",
   "id": "deluxe-service",
   "metadata": {},
   "source": [
    "## Creating solver and solving some problems"
   ]
  },
  {
   "cell_type": "markdown",
   "id": "hydraulic-marijuana",
   "metadata": {},
   "source": [
    "Now let's create some basic 1D Problem with Rectangular multiplicative dynamics and no trading constraints. For that, we need module `guaranteed.pricing`"
   ]
  },
  {
   "cell_type": "code",
   "execution_count": 8,
   "id": "ceramic-cloud",
   "metadata": {},
   "outputs": [],
   "source": [
    "from guaranteed.pricing import *\n",
    "import numpy as np\n",
    "pm1 = Problem(starting_price=np.array(100), \n",
    "            price_dynamics=ConstantDynamics(support=RectangularHandler([.9, 1.1]), type='mult'),\n",
    "            trading_constraints=NoConstraints, option=option1, \n",
    "            lattice=Lattice(delta=[1]), \n",
    "            time_horizon=5)"
   ]
  },
  {
   "cell_type": "markdown",
   "id": "moving-military",
   "metadata": {},
   "source": [
    "Now we create solver with some parameters."
   ]
  },
  {
   "cell_type": "markdown",
   "id": "desirable-pixel",
   "metadata": {},
   "source": [
    "Most of the time, there is no point in tweaking *all* of these parameters, only some, namely `enable_timer` and `iter_tick`"
   ]
  },
  {
   "cell_type": "code",
   "execution_count": 10,
   "id": "accompanied-confidence",
   "metadata": {},
   "outputs": [],
   "source": [
    "opts = {'convex_hull_filter': 'qhull', 'convex_hull_prune_fail_count': 0,\n",
    "        'convex_hull_prune_success_count':0,'convex_hull_prune_corner_n': 3,'convex_hull_prune_seed': 0} \n",
    "solver = ConvhullSolver(enable_timer=True, pricer_options=opts, ignore_warnings=True, iter_tick=50)"
   ]
  },
  {
   "cell_type": "markdown",
   "id": "casual-width",
   "metadata": {},
   "source": [
    "Now we solve it and see the result $V_0(x_0)$"
   ]
  },
  {
   "cell_type": "code",
   "execution_count": 11,
   "id": "random-target",
   "metadata": {},
   "outputs": [
    {
     "name": "stdout",
     "output_type": "stream",
     "text": [
      "Precalculating points for value function evaluation: 0.0896 sec (CPU 0.0896 sec)\n",
      "Computing value function in the last point: 0.0000 sec (CPU 0.0000 sec)\n",
      "t = 4\n",
      "iter = 19/90 (21.11%)\n",
      "iter = 58/90 (64.44%)\n",
      "iter = 75/90 (83.33%)\n",
      "t = 3\n",
      "iter = 8/67 (11.94%)\n",
      "iter = 22/67 (32.84%)\n",
      "t = 2\n",
      "iter = 20/45 (44.44%)\n",
      "iter = 33/45 (73.33%)\n",
      "t = 1\n",
      "t = 0\n",
      "Computing value function in intermediate points in time: 0.5089 sec (CPU 0.5089 sec)\n",
      "Solving the problem: 0.5992 sec (CPU 0.5992 sec)\n",
      "Value: 5.327786420219619\n"
     ]
    }
   ],
   "source": [
    "sol1 = solver.solve(pm1)\n",
    "# the solution is simply a dictionary\n",
    "print('Value: {0}'.format(sol1['Vf'][0][0]))"
   ]
  },
  {
   "cell_type": "markdown",
   "id": "congressional-natural",
   "metadata": {},
   "source": [
    "Let's play around and change Lattice step"
   ]
  },
  {
   "cell_type": "code",
   "execution_count": 12,
   "id": "operating-medicaid",
   "metadata": {},
   "outputs": [
    {
     "name": "stdout",
     "output_type": "stream",
     "text": [
      "Precalculating points for value function evaluation: 0.7393 sec (CPU 0.7393 sec)\n",
      "Computing value function in the last point: 0.0000 sec (CPU 0.0000 sec)\n",
      "t = 4\n",
      "iter = 8/818 (0.98%)\n",
      "iter = 46/818 (5.62%)\n",
      "iter = 123/818 (15.04%)\n",
      "iter = 188/818 (22.98%)\n",
      "iter = 323/818 (39.49%)\n",
      "iter = 340/818 (41.56%)\n",
      "iter = 352/818 (43.03%)\n",
      "iter = 370/818 (45.23%)\n",
      "iter = 387/818 (47.31%)\n",
      "iter = 388/818 (47.43%)\n",
      "iter = 452/818 (55.26%)\n",
      "iter = 467/818 (57.09%)\n",
      "iter = 485/818 (59.29%)\n",
      "iter = 511/818 (62.47%)\n",
      "iter = 585/818 (71.52%)\n",
      "iter = 776/818 (94.87%)\n",
      "iter = 786/818 (96.09%)\n",
      "t = 3\n",
      "iter = 10/609 (1.64%)\n",
      "iter = 204/609 (33.50%)\n",
      "iter = 243/609 (39.90%)\n",
      "iter = 246/609 (40.39%)\n",
      "iter = 294/609 (48.28%)\n",
      "iter = 300/609 (49.26%)\n",
      "iter = 370/609 (60.76%)\n",
      "iter = 380/609 (62.40%)\n",
      "iter = 382/609 (62.73%)\n",
      "iter = 409/609 (67.16%)\n",
      "iter = 549/609 (90.15%)\n",
      "iter = 551/609 (90.48%)\n",
      "t = 2\n",
      "iter = 115/405 (28.40%)\n",
      "iter = 131/405 (32.35%)\n",
      "iter = 136/405 (33.58%)\n",
      "iter = 158/405 (39.01%)\n",
      "iter = 175/405 (43.21%)\n",
      "iter = 182/405 (44.94%)\n",
      "iter = 279/405 (68.89%)\n",
      "iter = 302/405 (74.57%)\n",
      "iter = 390/405 (96.30%)\n",
      "t = 1\n",
      "iter = 15/203 (7.39%)\n",
      "iter = 34/203 (16.75%)\n",
      "iter = 175/203 (86.21%)\n",
      "t = 0\n",
      "Computing value function in intermediate points in time: 4.5870 sec (CPU 4.5870 sec)\n",
      "Solving the problem: 5.3268 sec (CPU 5.3268 sec)\n",
      "Value: 4.415097310413493\n"
     ]
    }
   ],
   "source": [
    "pm1.lattice = Lattice(delta=[.1])\n",
    "sol2 = solver.solve(pm1)\n",
    "print('Value: {0}'.format(sol2['Vf'][0][0]))"
   ]
  },
  {
   "cell_type": "markdown",
   "id": "according-conversion",
   "metadata": {},
   "source": [
    "Let's try 2D Problem with another option and *additive* dynamics."
   ]
  },
  {
   "cell_type": "code",
   "execution_count": 13,
   "id": "pointed-adoption",
   "metadata": {},
   "outputs": [
    {
     "name": "stdout",
     "output_type": "stream",
     "text": [
      "Precalculating points for value function evaluation: 1.0130 sec (CPU 1.0130 sec)\n",
      "Computing value function in the last point: 0.0007 sec (CPU 0.0007 sec)\n",
      "t = 4\n",
      "iter = 907/5913 (15.34%)\n",
      "iter = 979/5913 (16.56%)\n",
      "iter = 1041/5913 (17.61%)\n",
      "iter = 1508/5913 (25.50%)\n",
      "iter = 1609/5913 (27.21%)\n",
      "iter = 1646/5913 (27.84%)\n",
      "iter = 1825/5913 (30.86%)\n",
      "iter = 2417/5913 (40.88%)\n",
      "iter = 3363/5913 (56.87%)\n",
      "iter = 3484/5913 (58.92%)\n",
      "iter = 3543/5913 (59.92%)\n",
      "iter = 3603/5913 (60.93%)\n",
      "iter = 4038/5913 (68.29%)\n",
      "iter = 4153/5913 (70.24%)\n",
      "iter = 4169/5913 (70.51%)\n",
      "iter = 4219/5913 (71.35%)\n",
      "iter = 4341/5913 (73.41%)\n",
      "iter = 4506/5913 (76.20%)\n",
      "iter = 4867/5913 (82.31%)\n",
      "iter = 4996/5913 (84.49%)\n",
      "iter = 5766/5913 (97.51%)\n",
      "t = 3\n",
      "iter = 125/3355 (3.73%)\n",
      "iter = 182/3355 (5.42%)\n",
      "iter = 507/3355 (15.11%)\n",
      "iter = 1019/3355 (30.37%)\n",
      "iter = 1180/3355 (35.17%)\n",
      "iter = 1245/3355 (37.11%)\n",
      "iter = 1432/3355 (42.68%)\n",
      "iter = 1691/3355 (50.40%)\n",
      "iter = 1700/3355 (50.67%)\n",
      "iter = 1703/3355 (50.76%)\n",
      "iter = 1777/3355 (52.97%)\n",
      "iter = 2025/3355 (60.36%)\n",
      "iter = 2063/3355 (61.49%)\n",
      "iter = 2202/3355 (65.63%)\n",
      "iter = 2682/3355 (79.94%)\n",
      "iter = 2770/3355 (82.56%)\n",
      "iter = 2956/3355 (88.11%)\n",
      "iter = 2980/3355 (88.82%)\n",
      "t = 2\n",
      "iter = 200/1517 (13.18%)\n",
      "iter = 227/1517 (14.96%)\n",
      "iter = 534/1517 (35.20%)\n",
      "iter = 587/1517 (38.69%)\n",
      "iter = 604/1517 (39.82%)\n",
      "iter = 609/1517 (40.15%)\n",
      "iter = 880/1517 (58.01%)\n",
      "iter = 909/1517 (59.92%)\n",
      "iter = 1150/1517 (75.81%)\n",
      "iter = 1317/1517 (86.82%)\n",
      "t = 1\n",
      "iter = 134/399 (33.58%)\n",
      "iter = 222/399 (55.64%)\n",
      "t = 0\n",
      "Computing value function in intermediate points in time: 41.3273 sec (CPU 41.3274 sec)\n",
      "Solving the problem: 42.3421 sec (CPU 42.3422 sec)\n",
      "Value: 2.244970331346091\n"
     ]
    }
   ],
   "source": [
    "pm2 = Problem(starting_price=np.array([91,90]), price_dynamics=ConstantDynamics(support=RectangularHandler([[-1, 1],[-.75, 1]]), type='add'),\n",
    "             trading_constraints=IdenticalMap(RealSpaceHandler()),\n",
    "             option=option4,\n",
    "             lattice=Lattice(delta=[.1,.1]), time_horizon=5)\n",
    "solver.iter_tick = 200\n",
    "sol3 = solver.solve(pm2)\n",
    "print('Value: {0}'.format(sol3['Vf'][0][0]))"
   ]
  }
 ],
 "metadata": {
  "kernelspec": {
   "display_name": "Python 3",
   "language": "python",
   "name": "python3"
  },
  "language_info": {
   "codemirror_mode": {
    "name": "ipython",
    "version": 3
   },
   "file_extension": ".py",
   "mimetype": "text/x-python",
   "name": "python",
   "nbconvert_exporter": "python",
   "pygments_lexer": "ipython3",
   "version": "3.9.2"
  }
 },
 "nbformat": 4,
 "nbformat_minor": 5
}
