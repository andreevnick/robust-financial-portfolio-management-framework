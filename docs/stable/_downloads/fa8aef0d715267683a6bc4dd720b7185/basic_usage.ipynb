{
 "cells": [
  {
   "cell_type": "markdown",
   "id": "right-qatar",
   "metadata": {},
   "source": [
    "# How-To, First Steps\n",
    "\n",
    "## Load package and create basic options"
   ]
  },
  {
   "cell_type": "code",
   "execution_count": 1,
   "id": "swiss-comedy",
   "metadata": {},
   "outputs": [],
   "source": [
    "import os\n",
    "import sys\n",
    "sys.path.insert(0, os.path.abspath('../'))\n",
    "\n",
    "from robustfpm.finance import make_option"
   ]
  },
  {
   "cell_type": "markdown",
   "id": "spread-hundred",
   "metadata": {},
   "source": [
    "Let's start with some basic options. Remember that 1D PutOnMax is just Put (the same goes for CallOnMax)"
   ]
  },
  {
   "cell_type": "code",
   "execution_count": 2,
   "id": "realistic-gates",
   "metadata": {},
   "outputs": [],
   "source": [
    "option1 = make_option(option_type='putonmax', strike=90)\n",
    "option2 = make_option(option_type='putonmax', strike=80, payoff_dates = 5)\n",
    "option3 = make_option(option_type='callonmax', strike=90, payoff_dates = [3,5])\n",
    "option4 = make_option(option_type='put2call1') # American Put2Call1 option"
   ]
  },
  {
   "cell_type": "markdown",
   "id": "amateur-reduction",
   "metadata": {},
   "source": [
    "Now let's see how these options got instantiated"
   ]
  },
  {
   "cell_type": "code",
   "execution_count": 4,
   "id": "circular-circuit",
   "metadata": {},
   "outputs": [
    {
     "name": "stdout",
     "output_type": "stream",
     "text": [
      "Option 1: <robustfpm.finance.derivatives.AmericanOption object at 0x11463fdc0>\n",
      "Option 2: <robustfpm.finance.derivatives.EuropeanOption object at 0x11463fd60>\n",
      "Option 3: <robustfpm.finance.derivatives.BermudanOption object at 0x105a6b3d0>\n",
      "Option 4: <robustfpm.finance.derivatives.AmericanOption object at 0x105a6b2e0>\n"
     ]
    }
   ],
   "source": [
    "print('Option 1: {}'.format(option1))\n",
    "print('Option 2: {}'.format(option2))\n",
    "print('Option 3: {}'.format(option3))\n",
    "print('Option 4: {}'.format(option4))"
   ]
  },
  {
   "cell_type": "code",
   "execution_count": 5,
   "id": "apart-sunday",
   "metadata": {},
   "outputs": [
    {
     "name": "stdout",
     "output_type": "stream",
     "text": [
      "Option 1 payoff at x = 80, 90, and 100, t = 3: [10.  0.  0.]\n",
      "Option 2 payoff at x = 100, t = 3: [-inf]\n",
      "Option 3 payoff at x = 100, t = 3: [10.]\n",
      "Option 3 payoff at x = 100, t = 4: [-inf]\n"
     ]
    }
   ],
   "source": [
    "print('Option 1 payoff at x = 80, 90, and 100, t = 3: {}'.format(option1.payoff([[80], [90], [100]], 3)))\n",
    "print('Option 2 payoff at x = 100, t = 3: {}'.format(option2.payoff(100, 3)))\n",
    "print('Option 3 payoff at x = 100, t = 3: {}'.format(option3.payoff(100, 3)))\n",
    "print('Option 3 payoff at x = 100, t = 4: {}'.format(option3.payoff(100, 4)))"
   ]
  },
  {
   "cell_type": "markdown",
   "id": "deluxe-service",
   "metadata": {},
   "source": [
    "## Creating solver and solving some problems"
   ]
  },
  {
   "cell_type": "markdown",
   "id": "hydraulic-marijuana",
   "metadata": {},
   "source": [
    "Now let's create some basic 1D Problem with Rectangular multiplicative dynamics and no trading constraints. For that, we need module `robustfpm.pricing`"
   ]
  },
  {
   "cell_type": "code",
   "execution_count": 5,
   "id": "ceramic-cloud",
   "metadata": {},
   "outputs": [],
   "source": [
    "from robustfpm.pricing import *\n",
    "import numpy as np\n",
    "pm1 = Problem(starting_price=np.array(100), \n",
    "            price_dynamics=ConstantDynamics(support=RectangularHandler([.9, 1.1]), type='mult'),\n",
    "            trading_constraints=NoConstraints, option=option1, \n",
    "            lattice=Lattice(delta=[1]), \n",
    "            time_horizon=5)"
   ]
  },
  {
   "cell_type": "markdown",
   "id": "moving-military",
   "metadata": {},
   "source": [
    "Now we create solver with some parameters."
   ]
  },
  {
   "cell_type": "markdown",
   "id": "desirable-pixel",
   "metadata": {},
   "source": [
    "Most of the time, there is no point in tweaking *all* of these parameters, only some, namely `enable_timer` and `iter_tick`"
   ]
  },
  {
   "cell_type": "code",
   "execution_count": 6,
   "id": "accompanied-confidence",
   "metadata": {},
   "outputs": [],
   "source": [
    "opts = {'convex_hull_filter': 'qhull', 'convex_hull_prune_fail_count': 0,\n",
    "        'convex_hull_prune_success_count':0,'convex_hull_prune_corner_n': 3,'convex_hull_prune_seed': 0} \n",
    "solver = ConvhullSolver(enable_timer=True, pricer_options=opts, ignore_warnings=True, iter_tick=50)"
   ]
  },
  {
   "cell_type": "markdown",
   "id": "casual-width",
   "metadata": {},
   "source": [
    "Now we solve it and see the result $V_0(x_0)$"
   ]
  },
  {
   "cell_type": "code",
   "execution_count": 7,
   "id": "random-target",
   "metadata": {},
   "outputs": [
    {
     "name": "stdout",
     "output_type": "stream",
     "text": [
      "Precalculating points for value function evaluation: 0.0806 sec (CPU 0.0806 sec)\n",
      "Computing value function in the last point: 0.0000 sec (CPU 0.0000 sec)\n",
      "t = 4\n",
      "iter = 64/90 (71.11%)\n",
      "iter = 73/90 (81.11%)\n",
      "iter = 84/90 (93.33%)\n",
      "t = 3\n",
      "iter = 4/67 (5.97%)\n",
      "iter = 15/67 (22.39%)\n",
      "iter = 16/67 (23.88%)\n",
      "t = 2\n",
      "iter = 5/45 (11.11%)\n",
      "t = 1\n",
      "t = 0\n",
      "Computing value function in intermediate points in time: 0.4102 sec (CPU 0.4102 sec)\n",
      "Solving the problem: 0.4912 sec (CPU 0.4912 sec)\n",
      "Value: 5.327786420219619\n"
     ]
    }
   ],
   "source": [
    "sol1 = solver.solve(pm1)\n",
    "# the solution is simply a dictionary\n",
    "print('Value: {0}'.format(sol1['Vf'][0][0]))"
   ]
  },
  {
   "cell_type": "markdown",
   "id": "congressional-natural",
   "metadata": {},
   "source": [
    "Let's play around and change Lattice step"
   ]
  },
  {
   "cell_type": "code",
   "execution_count": 8,
   "id": "operating-medicaid",
   "metadata": {},
   "outputs": [
    {
     "name": "stdout",
     "output_type": "stream",
     "text": [
      "Precalculating points for value function evaluation: 0.5837 sec (CPU 0.5836 sec)\n",
      "Computing value function in the last point: 0.0000 sec (CPU 0.0000 sec)\n",
      "t = 4\n",
      "iter = 27/818 (3.30%)\n",
      "iter = 248/818 (30.32%)\n",
      "iter = 284/818 (34.72%)\n",
      "iter = 322/818 (39.36%)\n",
      "iter = 332/818 (40.59%)\n",
      "iter = 360/818 (44.01%)\n",
      "iter = 382/818 (46.70%)\n",
      "iter = 416/818 (50.86%)\n",
      "iter = 470/818 (57.46%)\n",
      "iter = 474/818 (57.95%)\n",
      "iter = 497/818 (60.76%)\n",
      "iter = 523/818 (63.94%)\n",
      "iter = 603/818 (73.72%)\n",
      "iter = 604/818 (73.84%)\n",
      "iter = 659/818 (80.56%)\n",
      "iter = 693/818 (84.72%)\n",
      "t = 3\n",
      "iter = 200/609 (32.84%)\n",
      "iter = 265/609 (43.51%)\n",
      "iter = 295/609 (48.44%)\n",
      "iter = 351/609 (57.64%)\n",
      "iter = 379/609 (62.23%)\n",
      "iter = 413/609 (67.82%)\n",
      "t = 2\n",
      "iter = 15/405 (3.70%)\n",
      "iter = 78/405 (19.26%)\n",
      "iter = 104/405 (25.68%)\n",
      "iter = 144/405 (35.56%)\n",
      "iter = 184/405 (45.43%)\n",
      "iter = 248/405 (61.23%)\n",
      "iter = 270/405 (66.67%)\n",
      "iter = 280/405 (69.14%)\n",
      "iter = 295/405 (72.84%)\n",
      "iter = 332/405 (81.98%)\n",
      "iter = 382/405 (94.32%)\n",
      "iter = 403/405 (99.51%)\n",
      "t = 1\n",
      "iter = 75/203 (36.95%)\n",
      "iter = 100/203 (49.26%)\n",
      "iter = 122/203 (60.10%)\n",
      "iter = 147/203 (72.41%)\n",
      "t = 0\n",
      "Computing value function in intermediate points in time: 3.9101 sec (CPU 3.9101 sec)\n",
      "Solving the problem: 4.4943 sec (CPU 4.4942 sec)\n",
      "Value: 4.415097310413493\n"
     ]
    }
   ],
   "source": [
    "pm1.lattice = Lattice(delta=[.1])\n",
    "sol2 = solver.solve(pm1)\n",
    "print('Value: {0}'.format(sol2['Vf'][0][0]))"
   ]
  },
  {
   "cell_type": "markdown",
   "id": "according-conversion",
   "metadata": {},
   "source": [
    "Let's try 2D Problem with another option and *additive* dynamics."
   ]
  },
  {
   "cell_type": "code",
   "execution_count": 9,
   "id": "pointed-adoption",
   "metadata": {},
   "outputs": [
    {
     "name": "stdout",
     "output_type": "stream",
     "text": [
      "Precalculating points for value function evaluation: 0.9343 sec (CPU 0.9343 sec)\n",
      "Computing value function in the last point: 0.0005 sec (CPU 0.0004 sec)\n",
      "t = 4\n",
      "iter = 241/5913 (4.08%)\n",
      "iter = 696/5913 (11.77%)\n",
      "iter = 799/5913 (13.51%)\n",
      "iter = 802/5913 (13.56%)\n",
      "iter = 1030/5913 (17.42%)\n",
      "iter = 1174/5913 (19.85%)\n",
      "iter = 1211/5913 (20.48%)\n",
      "iter = 1313/5913 (22.21%)\n",
      "iter = 1463/5913 (24.74%)\n",
      "iter = 1590/5913 (26.89%)\n",
      "iter = 1819/5913 (30.76%)\n",
      "iter = 1940/5913 (32.81%)\n",
      "iter = 2070/5913 (35.01%)\n",
      "iter = 3523/5913 (59.58%)\n",
      "iter = 3835/5913 (64.86%)\n",
      "iter = 3962/5913 (67.00%)\n",
      "iter = 4232/5913 (71.57%)\n",
      "iter = 4570/5913 (77.29%)\n",
      "iter = 4696/5913 (79.42%)\n",
      "iter = 4700/5913 (79.49%)\n",
      "iter = 4726/5913 (79.93%)\n",
      "iter = 4744/5913 (80.23%)\n",
      "iter = 5135/5913 (86.84%)\n",
      "iter = 5308/5913 (89.77%)\n",
      "iter = 5388/5913 (91.12%)\n",
      "iter = 5722/5913 (96.77%)\n",
      "iter = 5897/5913 (99.73%)\n",
      "t = 3\n",
      "iter = 335/3355 (9.99%)\n",
      "iter = 523/3355 (15.59%)\n",
      "iter = 644/3355 (19.20%)\n",
      "iter = 886/3355 (26.41%)\n",
      "iter = 1381/3355 (41.16%)\n",
      "iter = 1622/3355 (48.35%)\n",
      "iter = 1630/3355 (48.58%)\n",
      "iter = 2103/3355 (62.68%)\n",
      "iter = 2237/3355 (66.68%)\n",
      "iter = 2284/3355 (68.08%)\n",
      "iter = 2340/3355 (69.75%)\n",
      "iter = 2525/3355 (75.26%)\n",
      "iter = 2628/3355 (78.33%)\n",
      "iter = 2670/3355 (79.58%)\n",
      "iter = 2975/3355 (88.67%)\n",
      "iter = 3311/3355 (98.69%)\n",
      "t = 2\n",
      "iter = 99/1517 (6.53%)\n",
      "iter = 291/1517 (19.18%)\n",
      "iter = 395/1517 (26.04%)\n",
      "iter = 469/1517 (30.92%)\n",
      "iter = 588/1517 (38.76%)\n",
      "iter = 612/1517 (40.34%)\n",
      "iter = 669/1517 (44.10%)\n",
      "iter = 797/1517 (52.54%)\n",
      "iter = 1054/1517 (69.48%)\n",
      "iter = 1073/1517 (70.73%)\n",
      "iter = 1094/1517 (72.12%)\n",
      "iter = 1339/1517 (88.27%)\n",
      "iter = 1377/1517 (90.77%)\n",
      "iter = 1499/1517 (98.81%)\n",
      "t = 1\n",
      "iter = 62/399 (15.54%)\n",
      "iter = 328/399 (82.21%)\n",
      "t = 0\n",
      "Computing value function in intermediate points in time: 37.2256 sec (CPU 37.2044 sec)\n",
      "Solving the problem: 38.1621 sec (CPU 38.1410 sec)\n",
      "Value: 2.244970331346091\n"
     ]
    }
   ],
   "source": [
    "pm2 = Problem(starting_price=np.array([91,90]), price_dynamics=ConstantDynamics(support=RectangularHandler([[-1, 1],[-.75, 1]]), type='add'),\n",
    "             trading_constraints=IdenticalMap(RealSpaceHandler()),\n",
    "             option=option4,\n",
    "             lattice=Lattice(delta=[.1,.1]), time_horizon=5)\n",
    "solver.iter_tick = 200\n",
    "sol3 = solver.solve(pm2)\n",
    "print('Value: {0}'.format(sol3['Vf'][0][0]))"
   ]
  },
  {
   "cell_type": "code",
   "execution_count": null,
   "id": "fifty-creature",
   "metadata": {},
   "outputs": [],
   "source": []
  }
 ],
 "metadata": {
  "kernelspec": {
   "display_name": "Python 3",
   "language": "python",
   "name": "python3"
  },
  "language_info": {
   "codemirror_mode": {
    "name": "ipython",
    "version": 3
   },
   "file_extension": ".py",
   "mimetype": "text/x-python",
   "name": "python",
   "nbconvert_exporter": "python",
   "pygments_lexer": "ipython3",
   "version": "3.9.2"
  }
 },
 "nbformat": 4,
 "nbformat_minor": 5
}
