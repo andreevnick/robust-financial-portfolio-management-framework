{
 "cells": [
  {
   "cell_type": "markdown",
   "id": "right-qatar",
   "metadata": {},
   "source": [
    "# How-To, First Steps\n",
    "\n",
    "## Load package and create basic options"
   ]
  },
  {
   "cell_type": "code",
   "execution_count": 1,
   "id": "swiss-comedy",
   "metadata": {},
   "outputs": [],
   "source": [
    "import os\n",
    "import sys\n",
    "sys.path.insert(0, os.path.abspath('../'))\n",
    "\n",
    "from robustfpm.finance import make_option"
   ]
  },
  {
   "cell_type": "markdown",
   "id": "spread-hundred",
   "metadata": {},
   "source": [
    "Let's start with some basic options. Remember that 1D PutOnMax is just Put (the same goes for CallOnMax)"
   ]
  },
  {
   "cell_type": "code",
   "execution_count": 2,
   "id": "realistic-gates",
   "metadata": {},
   "outputs": [],
   "source": [
    "option1 = make_option(option_type='putonmax', strike=90)\n",
    "option2 = make_option(option_type='putonmax', strike=80, payoff_dates = 5)\n",
    "option3 = make_option(option_type='callonmax', strike=90, payoff_dates = [3,5])\n",
    "option4 = make_option(option_type='put2call1') # American Put2Call1 option"
   ]
  },
  {
   "cell_type": "markdown",
   "id": "amateur-reduction",
   "metadata": {},
   "source": [
    "Now let's see how these options got instantiated"
   ]
  },
  {
   "cell_type": "code",
   "execution_count": 3,
   "id": "circular-circuit",
   "metadata": {},
   "outputs": [
    {
     "name": "stdout",
     "output_type": "stream",
     "text": [
      "Option 1: <robustfpm.finance.derivatives.AmericanOption object at 0x10512e550>\n",
      "Option 2: <robustfpm.finance.derivatives.EuropeanOption object at 0x10512e790>\n",
      "Option 3: <robustfpm.finance.derivatives.BermudanOption object at 0x113bb3ee0>\n",
      "Option 4: <robustfpm.finance.derivatives.AmericanOption object at 0x113bb3f10>\n"
     ]
    }
   ],
   "source": [
    "print('Option 1: {}'.format(option1))\n",
    "print('Option 2: {}'.format(option2))\n",
    "print('Option 3: {}'.format(option3))\n",
    "print('Option 4: {}'.format(option4))"
   ]
  },
  {
   "cell_type": "code",
   "execution_count": 4,
   "id": "apart-sunday",
   "metadata": {},
   "outputs": [
    {
     "name": "stdout",
     "output_type": "stream",
     "text": [
      "Option 1 payoff at x = 80, 90, and 100, t = 3: [10.  0.  0.]\n",
      "Option 2 payoff at x = 100, t = 3: [-inf]\n",
      "Option 3 payoff at x = 100, t = 3: [10.]\n",
      "Option 3 payoff at x = 100, t = 4: [-inf]\n"
     ]
    }
   ],
   "source": [
    "print('Option 1 payoff at x = 80, 90, and 100, t = 3: {}'.format(option1.payoff([[80], [90], [100]], 3)))\n",
    "print('Option 2 payoff at x = 100, t = 3: {}'.format(option2.payoff(100, 3)))\n",
    "print('Option 3 payoff at x = 100, t = 3: {}'.format(option3.payoff(100, 3)))\n",
    "print('Option 3 payoff at x = 100, t = 4: {}'.format(option3.payoff(100, 4)))"
   ]
  },
  {
   "cell_type": "markdown",
   "id": "deluxe-service",
   "metadata": {},
   "source": [
    "## Creating solver and solving some problems"
   ]
  },
  {
   "cell_type": "markdown",
   "id": "hydraulic-marijuana",
   "metadata": {},
   "source": [
    "Now let's create some basic 1D Problem with Rectangular multiplicative dynamics and no trading constraints. For that, we need module `robustfpm.pricing`"
   ]
  },
  {
   "cell_type": "code",
   "execution_count": 5,
   "id": "ceramic-cloud",
   "metadata": {},
   "outputs": [],
   "source": [
    "from robustfpm.pricing import *\n",
    "import numpy as np\n",
    "pm1 = Problem(starting_price=np.array(100), \n",
    "            price_dynamics=ConstantDynamics(support=RectangularHandler([.9, 1.1]), type='mult'),\n",
    "            trading_constraints=NoConstraints, option=option1, \n",
    "            lattice=Lattice(delta=[1]), \n",
    "            time_horizon=5)"
   ]
  },
  {
   "cell_type": "markdown",
   "id": "moving-military",
   "metadata": {},
   "source": [
    "Now we create solver with some parameters."
   ]
  },
  {
   "cell_type": "markdown",
   "id": "desirable-pixel",
   "metadata": {},
   "source": [
    "Most of the time, there is no point in tweaking *all* of these parameters, only some, namely `enable_timer` and `iter_tick`"
   ]
  },
  {
   "cell_type": "code",
   "execution_count": 6,
   "id": "accompanied-confidence",
   "metadata": {},
   "outputs": [],
   "source": [
    "opts = {'convex_hull_filter': 'qhull', 'convex_hull_prune_fail_count': 0,\n",
    "        'convex_hull_prune_success_count':0,'convex_hull_prune_corner_n': 3,'convex_hull_prune_seed': 0} \n",
    "solver = ConvhullSolver(enable_timer=True, pricer_options=opts, ignore_warnings=True, iter_tick=50)"
   ]
  },
  {
   "cell_type": "markdown",
   "id": "casual-width",
   "metadata": {},
   "source": [
    "Now we solve it and see the result $V_0(x_0)$"
   ]
  },
  {
   "cell_type": "code",
   "execution_count": 7,
   "id": "random-target",
   "metadata": {},
   "outputs": [
    {
     "name": "stdout",
     "output_type": "stream",
     "text": [
      "Precalculating points for value function evaluation: 0.0956 sec (CPU 0.0956 sec)\n",
      "Computing value function in the last point: 0.0000 sec (CPU 0.0000 sec)\n",
      "t = 4\n",
      "iter = 54/90 (60.00%)\n",
      "iter = 89/90 (98.89%)\n",
      "t = 3\n",
      "iter = 54/67 (80.60%)\n",
      "t = 2\n",
      "t = 1\n",
      "iter = 18/23 (78.26%)\n",
      "t = 0\n",
      "Computing value function in intermediate points in time: 0.4487 sec (CPU 0.4487 sec)\n",
      "Solving the problem: 0.5453 sec (CPU 0.5453 sec)\n",
      "Value: 5.327786420219619\n"
     ]
    }
   ],
   "source": [
    "sol1 = solver.solve(pm1)\n",
    "# the solution is simply a dictionary\n",
    "print('Value: {0}'.format(sol1['Vf'][0][0]))"
   ]
  },
  {
   "cell_type": "markdown",
   "id": "manufactured-public",
   "metadata": {},
   "source": [
    "Now let's also calculate and check precision"
   ]
  },
  {
   "cell_type": "code",
   "execution_count": 8,
   "id": "conditional-resort",
   "metadata": {},
   "outputs": [
    {
     "name": "stdout",
     "output_type": "stream",
     "text": [
      "Precalculating points for value function evaluation: 0.0871 sec (CPU 0.0871 sec)\n",
      "Computing A^* and Lipschitz constants for constraints: 0.0003 sec (CPU 0.0003 sec)\n",
      "Calculating precision: 0.0004 sec (CPU 0.0004 sec)\n",
      "Computing value function in the last point: 0.0000 sec (CPU 0.0000 sec)\n",
      "t = 4\n",
      "iter = 81/90 (90.00%)\n",
      "t = 3\n",
      "iter = 50/67 (74.63%)\n",
      "iter = 55/67 (82.09%)\n",
      "t = 2\n",
      "iter = 7/45 (15.56%)\n",
      "t = 1\n",
      "t = 0\n",
      "Computing value function in intermediate points in time: 0.4240 sec (CPU 0.4240 sec)\n",
      "Solving the problem: 0.5130 sec (CPU 0.5130 sec)\n",
      "Value: 5.327786420219619\n"
     ]
    }
   ],
   "source": [
    "sol1 = solver.solve(pm1, calc_precision = True, do_precalc=False)\n",
    "# the solution is simply a dictionary\n",
    "print('Value: {0}'.format(sol1['Vf'][0][0]))"
   ]
  },
  {
   "cell_type": "code",
   "execution_count": 9,
   "id": "ethical-indianapolis",
   "metadata": {},
   "outputs": [
    {
     "name": "stdout",
     "output_type": "stream",
     "text": [
      "Precision: [5.85182876 4.00129318 2.49774194 1.33225806 0.5        0.        ]\n"
     ]
    }
   ],
   "source": [
    "print('Precision: {0}'.format(sol1['precision']))"
   ]
  },
  {
   "cell_type": "markdown",
   "id": "congressional-natural",
   "metadata": {},
   "source": [
    "Let's play around and change Lattice step, especially since the error is too big."
   ]
  },
  {
   "cell_type": "code",
   "execution_count": 10,
   "id": "operating-medicaid",
   "metadata": {},
   "outputs": [
    {
     "name": "stdout",
     "output_type": "stream",
     "text": [
      "Precalculating points for value function evaluation: 0.6532 sec (CPU 0.6532 sec)\n",
      "Computing A^* and Lipschitz constants for constraints: 0.0005 sec (CPU 0.0005 sec)\n",
      "Calculating precision: 0.0006 sec (CPU 0.0006 sec)\n",
      "Computing value function in the last point: 0.0001 sec (CPU 0.0001 sec)\n",
      "t = 4\n",
      "iter = 7/818 (0.86%)\n",
      "iter = 56/818 (6.85%)\n",
      "iter = 86/818 (10.51%)\n",
      "iter = 90/818 (11.00%)\n",
      "iter = 115/818 (14.06%)\n",
      "iter = 240/818 (29.34%)\n",
      "iter = 270/818 (33.01%)\n",
      "iter = 390/818 (47.68%)\n",
      "iter = 414/818 (50.61%)\n",
      "iter = 437/818 (53.42%)\n",
      "iter = 453/818 (55.38%)\n",
      "iter = 519/818 (63.45%)\n",
      "iter = 661/818 (80.81%)\n",
      "iter = 670/818 (81.91%)\n",
      "iter = 689/818 (84.23%)\n",
      "iter = 789/818 (96.45%)\n",
      "iter = 814/818 (99.51%)\n",
      "t = 3\n",
      "iter = 99/609 (16.26%)\n",
      "iter = 118/609 (19.38%)\n",
      "iter = 214/609 (35.14%)\n",
      "iter = 227/609 (37.27%)\n",
      "iter = 265/609 (43.51%)\n",
      "iter = 272/609 (44.66%)\n",
      "iter = 283/609 (46.47%)\n",
      "iter = 314/609 (51.56%)\n",
      "iter = 335/609 (55.01%)\n",
      "iter = 344/609 (56.49%)\n",
      "iter = 441/609 (72.41%)\n",
      "iter = 483/609 (79.31%)\n",
      "iter = 569/609 (93.43%)\n",
      "iter = 594/609 (97.54%)\n",
      "t = 2\n",
      "iter = 31/405 (7.65%)\n",
      "iter = 32/405 (7.90%)\n",
      "iter = 43/405 (10.62%)\n",
      "iter = 60/405 (14.81%)\n",
      "iter = 139/405 (34.32%)\n",
      "iter = 245/405 (60.49%)\n",
      "iter = 248/405 (61.23%)\n",
      "iter = 359/405 (88.64%)\n",
      "t = 1\n",
      "iter = 10/203 (4.93%)\n",
      "iter = 43/203 (21.18%)\n",
      "iter = 118/203 (58.13%)\n",
      "t = 0\n",
      "Computing value function in intermediate points in time: 4.1631 sec (CPU 4.1630 sec)\n",
      "Solving the problem: 4.8196 sec (CPU 4.8195 sec)\n",
      "Value: 4.415097310413493\n",
      "Precision: [0.54685734 0.3765979  0.23769283 0.12907975 0.05       0.        ]\n"
     ]
    }
   ],
   "source": [
    "pm1.lattice = Lattice(delta=[.1])\n",
    "solver\n",
    "sol2 = solver.solve(pm1, calc_precision = True)\n",
    "print('Value: {0}'.format(sol2['Vf'][0][0]))\n",
    "print('Precision: {0}'.format(sol2['precision']))"
   ]
  },
  {
   "cell_type": "markdown",
   "id": "ranging-satellite",
   "metadata": {},
   "source": [
    "And what if we go to the extreme?"
   ]
  },
  {
   "cell_type": "code",
   "execution_count": 15,
   "id": "charitable-perry",
   "metadata": {},
   "outputs": [
    {
     "name": "stdout",
     "output_type": "stream",
     "text": [
      "Precalculating points for value function evaluation: 9.2307 sec (CPU 9.2305 sec)\n",
      "Computing A^* and Lipschitz constants for constraints: 0.0010 sec (CPU 0.0010 sec)\n",
      "Calculating precision: 0.0002 sec (CPU 0.0002 sec)\n",
      "Precision: [0.05427884 0.03741037 0.02364124 0.01286389 0.005      0.        ]\n"
     ]
    }
   ],
   "source": [
    "pm1.lattice = Lattice(delta=[.01])\n",
    "solver.reset() # otherwise, we get old precision\n",
    "precision = solver.get_precision(pm1)\n",
    "print('Precision: {0}'.format(precision))"
   ]
  },
  {
   "cell_type": "code",
   "execution_count": 14,
   "id": "ordinary-asbestos",
   "metadata": {},
   "outputs": [
    {
     "name": "stdout",
     "output_type": "stream",
     "text": [
      "Precalculating points for value function evaluation: 9.1385 sec (CPU 9.1383 sec)\n",
      "Computing value function in the last point: 0.0008 sec (CPU 0.0008 sec)\n",
      "t = 4\n",
      "iter = 3309/8089 (40.91%)\n",
      "iter = 5327/8089 (65.85%)\n",
      "iter = 6215/8089 (76.83%)\n",
      "t = 3\n",
      "iter = 80/6027 (1.33%)\n",
      "iter = 81/6027 (1.34%)\n",
      "iter = 206/6027 (3.42%)\n",
      "iter = 541/6027 (8.98%)\n",
      "iter = 1975/6027 (32.77%)\n",
      "iter = 2422/6027 (40.19%)\n",
      "iter = 3981/6027 (66.05%)\n",
      "t = 2\n",
      "iter = 89/4005 (2.22%)\n",
      "iter = 325/4005 (8.11%)\n",
      "iter = 1080/4005 (26.97%)\n",
      "iter = 1683/4005 (42.02%)\n",
      "iter = 2608/4005 (65.12%)\n",
      "iter = 3230/4005 (80.65%)\n",
      "t = 1\n",
      "iter = 479/2003 (23.91%)\n",
      "iter = 700/2003 (34.95%)\n",
      "t = 0\n",
      "Computing value function in intermediate points in time: 58.8474 sec (CPU 58.8464 sec)\n",
      "Solving the problem: 1 min 7.9880 sec (CPU 1 min 7.9869 sec)\n",
      "Value: 4.322815140670112\n"
     ]
    }
   ],
   "source": [
    "solver.iter_tick = 1000\n",
    "sol3 = solver.solve(pm1)\n",
    "print('Value: {0}'.format(sol3['Vf'][0][0]))"
   ]
  },
  {
   "cell_type": "markdown",
   "id": "liked-final",
   "metadata": {},
   "source": [
    "A significant gain in precision — but not so much in the Value...\n",
    "\n",
    "That's because we give a *guaranteed* estimate for precision that depends on grid and assumes that the $v_t$ is the *worst*."
   ]
  },
  {
   "cell_type": "markdown",
   "id": "according-conversion",
   "metadata": {},
   "source": [
    "Let's try 2D Problem with another option and *additive* dynamics."
   ]
  },
  {
   "cell_type": "code",
   "execution_count": 17,
   "id": "pointed-adoption",
   "metadata": {},
   "outputs": [
    {
     "name": "stdout",
     "output_type": "stream",
     "text": [
      "Precalculating points for value function evaluation: 0.8709 sec (CPU 0.8709 sec)\n",
      "Computing A^* and Lipschitz constants for constraints: 0.0009 sec (CPU 0.0009 sec)\n",
      "Calculating precision: 0.0001 sec (CPU 0.0001 sec)\n",
      "Computing value function in the last point: 0.0006 sec (CPU 0.0006 sec)\n",
      "t = 4\n",
      "iter = 612/5913 (10.35%)\n",
      "iter = 782/5913 (13.23%)\n",
      "iter = 1336/5913 (22.59%)\n",
      "iter = 1858/5913 (31.42%)\n",
      "iter = 2483/5913 (41.99%)\n",
      "iter = 2716/5913 (45.93%)\n",
      "iter = 4390/5913 (74.24%)\n",
      "iter = 5052/5913 (85.44%)\n",
      "iter = 5624/5913 (95.11%)\n",
      "t = 3\n",
      "iter = 479/3355 (14.28%)\n",
      "iter = 595/3355 (17.73%)\n",
      "iter = 1644/3355 (49.00%)\n",
      "iter = 2018/3355 (60.15%)\n",
      "iter = 2183/3355 (65.07%)\n",
      "iter = 2259/3355 (67.33%)\n",
      "iter = 2297/3355 (68.46%)\n",
      "iter = 3035/3355 (90.46%)\n",
      "t = 2\n",
      "iter = 585/1517 (38.56%)\n",
      "iter = 772/1517 (50.89%)\n",
      "iter = 804/1517 (53.00%)\n",
      "iter = 1119/1517 (73.76%)\n",
      "iter = 1356/1517 (89.39%)\n",
      "t = 1\n",
      "iter = 377/399 (94.49%)\n",
      "t = 0\n",
      "Computing value function in intermediate points in time: 37.3468 sec (CPU 37.3462 sec)\n",
      "Solving the problem: 38.2216 sec (CPU 38.2209 sec)\n",
      "Value: 2.244970331346091\n",
      "Precision: [23.20320395  9.95000256  3.72746289  1.02025407  0.07071068  0.        ]\n"
     ]
    }
   ],
   "source": [
    "pm2 = Problem(starting_price=np.array([91,90]), price_dynamics=ConstantDynamics(support=RectangularHandler([[-1, 1],[-.75, 1]]), type='add'),\n",
    "             trading_constraints=IdenticalMap(RealSpaceHandler()),\n",
    "             option=option4,\n",
    "             lattice=Lattice(delta=[.1,.1]), time_horizon=5)\n",
    "solver.iter_tick = 500\n",
    "sol5 = solver.solve(pm2, calc_precision = True)\n",
    "print('Value: {0}'.format(sol5['Vf'][0][0]))\n",
    "print('Precision: {0}'.format(sol5['precision']))"
   ]
  },
  {
   "cell_type": "code",
   "execution_count": null,
   "id": "neutral-mixture",
   "metadata": {},
   "outputs": [],
   "source": [
    "pm3 = Problem(starting_price=np.array([91,90]), price_dynamics=ConstantDynamics(support=RectangularHandler([[-1, 1],[-.75, 1]]), type='add'),\n",
    "             trading_constraints=IdenticalMap(RealSpaceHandler()),\n",
    "             option=option4,\n",
    "             lattice=Lattice(delta=[.1,.1]), time_horizon=5)\n",
    "solver.iter_tick = 500\n",
    "sol6 = solver.solve(pm3, calc_precision = True)\n",
    "print('Value: {0}'.format(sol6['Vf'][0][0]))\n",
    "print('Precision: {0}'.format(sol6['precision']))"
   ]
  },
  {
   "cell_type": "code",
   "execution_count": null,
   "id": "smaller-pocket",
   "metadata": {},
   "outputs": [],
   "source": [
    "pm4 = Problem(starting_price=np.array([91,90]), price_dynamics=ConstantDynamics(support=RectangularHandler([[-1, 1],[-.75, 1]]), type='add'),\n",
    "             trading_constraints=LongOnlyConstraints,\n",
    "             option=option4,\n",
    "             lattice=Lattice(delta=[.1,.1]), time_horizon=5)\n",
    "solver.iter_tick = 500\n",
    "sol7 = solver.solve(pm4, calc_precision = True)\n",
    "print('Value: {0}'.format(sol7['Vf'][0][0]))\n",
    "print('Precision: {0}'.format(sol7['precision']))"
   ]
  }
 ],
 "metadata": {
  "kernelspec": {
   "display_name": "Python 3",
   "language": "python",
   "name": "python3"
  },
  "language_info": {
   "codemirror_mode": {
    "name": "ipython",
    "version": 3
   },
   "file_extension": ".py",
   "mimetype": "text/x-python",
   "name": "python",
   "nbconvert_exporter": "python",
   "pygments_lexer": "ipython3",
   "version": "3.9.2"
  }
 },
 "nbformat": 4,
 "nbformat_minor": 5
}
