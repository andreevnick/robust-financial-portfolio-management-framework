{
 "cells": [
  {
   "cell_type": "markdown",
   "id": "right-qatar",
   "metadata": {},
   "source": [
    "# How-To, First Steps\n",
    "\n",
    "## Load package and create basic options"
   ]
  },
  {
   "cell_type": "code",
   "execution_count": 2,
   "id": "swiss-comedy",
   "metadata": {},
   "outputs": [],
   "source": [
    "import os\n",
    "import sys\n",
    "sys.path.insert(0, os.path.abspath('../'))\n",
    "\n",
    "from robustportfolio.finance import make_option"
   ]
  },
  {
   "cell_type": "markdown",
   "id": "spread-hundred",
   "metadata": {},
   "source": [
    "Let's start with some basic options. Remember that 1D PutOnMax is just Put (the same goes for CallOnMax)"
   ]
  },
  {
   "cell_type": "code",
   "execution_count": 3,
   "id": "realistic-gates",
   "metadata": {},
   "outputs": [],
   "source": [
    "option1 = make_option(option_type='putonmax', strike=90)\n",
    "option2 = make_option(option_type='putonmax', strike=80, payoff_dates = 5)\n",
    "option3 = make_option(option_type='callonmax', strike=90, payoff_dates = [3,5])\n",
    "option4 = make_option(option_type='put2call1') # American Put2Call1 option"
   ]
  },
  {
   "cell_type": "markdown",
   "id": "amateur-reduction",
   "metadata": {},
   "source": [
    "Now let's see how these options got instantiated"
   ]
  },
  {
   "cell_type": "code",
   "execution_count": 4,
   "id": "circular-circuit",
   "metadata": {},
   "outputs": [
    {
     "name": "stdout",
     "output_type": "stream",
     "text": [
      "Option 1: <robustportfolio.finance.derivatives.AmericanOption object at 0x10a307430>\n",
      "Option 2: <robustportfolio.finance.derivatives.EuropeanOption object at 0x10a307d90>\n",
      "Option 3: <robustportfolio.finance.derivatives.BermudanOption object at 0x114df6e20>\n",
      "Option 4: <robustportfolio.finance.derivatives.AmericanOption object at 0x114df6ee0>\n"
     ]
    }
   ],
   "source": [
    "print('Option 1: {}'.format(option1))\n",
    "print('Option 2: {}'.format(option2))\n",
    "print('Option 3: {}'.format(option3))\n",
    "print('Option 4: {}'.format(option4))"
   ]
  },
  {
   "cell_type": "code",
   "execution_count": 5,
   "id": "apart-sunday",
   "metadata": {},
   "outputs": [
    {
     "name": "stdout",
     "output_type": "stream",
     "text": [
      "Option 1 payoff at x = 80, 90, and 100, t = 3: [10.  0.  0.]\n",
      "Option 2 payoff at x = 100, t = 3: [-inf]\n",
      "Option 3 payoff at x = 100, t = 3: [10.]\n",
      "Option 3 payoff at x = 100, t = 4: [-inf]\n"
     ]
    }
   ],
   "source": [
    "print('Option 1 payoff at x = 80, 90, and 100, t = 3: {}'.format(option1.payoff([[80], [90], [100]], 3)))\n",
    "print('Option 2 payoff at x = 100, t = 3: {}'.format(option2.payoff(100, 3)))\n",
    "print('Option 3 payoff at x = 100, t = 3: {}'.format(option3.payoff(100, 3)))\n",
    "print('Option 3 payoff at x = 100, t = 4: {}'.format(option3.payoff(100, 4)))"
   ]
  },
  {
   "cell_type": "markdown",
   "id": "deluxe-service",
   "metadata": {},
   "source": [
    "## Creating solver and solving some problems"
   ]
  },
  {
   "cell_type": "markdown",
   "id": "hydraulic-marijuana",
   "metadata": {},
   "source": [
    "Now let's create some basic 1D Problem with Rectangular multiplicative dynamics and no trading constraints. For that, we need module `robustportfolio.pricing`"
   ]
  },
  {
   "cell_type": "code",
   "execution_count": 7,
   "id": "ceramic-cloud",
   "metadata": {},
   "outputs": [],
   "source": [
    "from robustportfolio.pricing import *\n",
    "import numpy as np\n",
    "pm1 = Problem(starting_price=np.array(100), \n",
    "            price_dynamics=ConstantDynamics(support=RectangularHandler([.9, 1.1]), type='mult'),\n",
    "            trading_constraints=NoConstraints, option=option1, \n",
    "            lattice=Lattice(delta=[1]), \n",
    "            time_horizon=5)"
   ]
  },
  {
   "cell_type": "markdown",
   "id": "moving-military",
   "metadata": {},
   "source": [
    "Now we create solver with some parameters."
   ]
  },
  {
   "cell_type": "markdown",
   "id": "desirable-pixel",
   "metadata": {},
   "source": [
    "Most of the time, there is no point in tweaking *all* of these parameters, only some, namely `enable_timer` and `iter_tick`"
   ]
  },
  {
   "cell_type": "code",
   "execution_count": 8,
   "id": "accompanied-confidence",
   "metadata": {},
   "outputs": [],
   "source": [
    "opts = {'convex_hull_filter': 'qhull', 'convex_hull_prune_fail_count': 0,\n",
    "        'convex_hull_prune_success_count':0,'convex_hull_prune_corner_n': 3,'convex_hull_prune_seed': 0} \n",
    "solver = ConvhullSolver(enable_timer=True, pricer_options=opts, ignore_warnings=True, iter_tick=50)"
   ]
  },
  {
   "cell_type": "markdown",
   "id": "casual-width",
   "metadata": {},
   "source": [
    "Now we solve it and see the result $V_0(x_0)$"
   ]
  },
  {
   "cell_type": "code",
   "execution_count": 9,
   "id": "random-target",
   "metadata": {},
   "outputs": [
    {
     "name": "stdout",
     "output_type": "stream",
     "text": [
      "Precalculating points for value function evaluation: 0.0873 sec (CPU 0.0873 sec)\n",
      "Computing value function in the last point: 0.0000 sec (CPU 0.0000 sec)\n",
      "t = 4\n",
      "iter = 77/90 (85.56%)\n",
      "t = 3\n",
      "t = 2\n",
      "t = 1\n",
      "iter = 4/23 (17.39%)\n",
      "iter = 6/23 (26.09%)\n",
      "t = 0\n",
      "Computing value function in intermediate points in time: 0.4379 sec (CPU 0.4379 sec)\n",
      "Solving the problem: 0.5257 sec (CPU 0.5257 sec)\n",
      "Value: 5.327786420219619\n"
     ]
    }
   ],
   "source": [
    "sol1 = solver.solve(pm1)\n",
    "# the solution is simply a dictionary\n",
    "print('Value: {0}'.format(sol1['Vf'][0][0]))"
   ]
  },
  {
   "cell_type": "markdown",
   "id": "congressional-natural",
   "metadata": {},
   "source": [
    "Let's play around and change Lattice step"
   ]
  },
  {
   "cell_type": "code",
   "execution_count": 10,
   "id": "operating-medicaid",
   "metadata": {},
   "outputs": [
    {
     "name": "stdout",
     "output_type": "stream",
     "text": [
      "Precalculating points for value function evaluation: 0.6521 sec (CPU 0.6521 sec)\n",
      "Computing value function in the last point: 0.0000 sec (CPU 0.0000 sec)\n",
      "t = 4\n",
      "iter = 91/818 (11.12%)\n",
      "iter = 125/818 (15.28%)\n",
      "iter = 186/818 (22.74%)\n",
      "iter = 230/818 (28.12%)\n",
      "iter = 282/818 (34.47%)\n",
      "iter = 319/818 (39.00%)\n",
      "iter = 352/818 (43.03%)\n",
      "iter = 409/818 (50.00%)\n",
      "iter = 470/818 (57.46%)\n",
      "iter = 619/818 (75.67%)\n",
      "iter = 697/818 (85.21%)\n",
      "iter = 715/818 (87.41%)\n",
      "iter = 730/818 (89.24%)\n",
      "iter = 740/818 (90.46%)\n",
      "iter = 742/818 (90.71%)\n",
      "iter = 751/818 (91.81%)\n",
      "t = 3\n",
      "iter = 48/609 (7.88%)\n",
      "iter = 55/609 (9.03%)\n",
      "iter = 62/609 (10.18%)\n",
      "iter = 78/609 (12.81%)\n",
      "iter = 121/609 (19.87%)\n",
      "iter = 150/609 (24.63%)\n",
      "iter = 160/609 (26.27%)\n",
      "iter = 187/609 (30.71%)\n",
      "iter = 200/609 (32.84%)\n",
      "iter = 208/609 (34.15%)\n",
      "iter = 212/609 (34.81%)\n",
      "iter = 262/609 (43.02%)\n",
      "iter = 276/609 (45.32%)\n",
      "iter = 289/609 (47.45%)\n",
      "iter = 444/609 (72.91%)\n",
      "iter = 455/609 (74.71%)\n",
      "iter = 479/609 (78.65%)\n",
      "iter = 481/609 (78.98%)\n",
      "iter = 501/609 (82.27%)\n",
      "iter = 522/609 (85.71%)\n",
      "t = 2\n",
      "iter = 20/405 (4.94%)\n",
      "iter = 57/405 (14.07%)\n",
      "iter = 65/405 (16.05%)\n",
      "iter = 81/405 (20.00%)\n",
      "iter = 105/405 (25.93%)\n",
      "iter = 107/405 (26.42%)\n",
      "iter = 121/405 (29.88%)\n",
      "iter = 124/405 (30.62%)\n",
      "iter = 158/405 (39.01%)\n",
      "iter = 179/405 (44.20%)\n",
      "iter = 229/405 (56.54%)\n",
      "iter = 374/405 (92.35%)\n",
      "t = 1\n",
      "iter = 40/203 (19.70%)\n",
      "iter = 75/203 (36.95%)\n",
      "iter = 91/203 (44.83%)\n",
      "iter = 160/203 (78.82%)\n",
      "iter = 176/203 (86.70%)\n",
      "t = 0\n",
      "Computing value function in intermediate points in time: 4.0522 sec (CPU 4.0522 sec)\n",
      "Solving the problem: 4.7050 sec (CPU 4.7050 sec)\n",
      "Value: 4.415097310413493\n"
     ]
    }
   ],
   "source": [
    "pm1.lattice = Lattice(delta=[.1])\n",
    "sol2 = solver.solve(pm1)\n",
    "print('Value: {0}'.format(sol2['Vf'][0][0]))"
   ]
  },
  {
   "cell_type": "markdown",
   "id": "according-conversion",
   "metadata": {},
   "source": [
    "Let's try 2D Problem with another option and *additive* dynamics."
   ]
  },
  {
   "cell_type": "code",
   "execution_count": null,
   "id": "pointed-adoption",
   "metadata": {},
   "outputs": [
    {
     "name": "stdout",
     "output_type": "stream",
     "text": [
      "Precalculating points for value function evaluation: 0.8596 sec (CPU 0.8596 sec)\n",
      "Computing value function in the last point: 0.0005 sec (CPU 0.0005 sec)\n",
      "t = 4\n",
      "iter = 951/5913 (16.08%)\n",
      "iter = 998/5913 (16.88%)\n",
      "iter = 1433/5913 (24.23%)\n",
      "iter = 1690/5913 (28.58%)\n",
      "iter = 1997/5913 (33.77%)\n",
      "iter = 2005/5913 (33.91%)\n",
      "iter = 3232/5913 (54.66%)\n",
      "iter = 3444/5913 (58.24%)\n",
      "iter = 3689/5913 (62.39%)\n",
      "iter = 3854/5913 (65.18%)\n",
      "iter = 3942/5913 (66.67%)\n",
      "iter = 4376/5913 (74.01%)\n",
      "iter = 4541/5913 (76.80%)\n",
      "iter = 4638/5913 (78.44%)\n",
      "iter = 4718/5913 (79.79%)\n",
      "iter = 4744/5913 (80.23%)\n",
      "iter = 4790/5913 (81.01%)\n",
      "iter = 5110/5913 (86.42%)\n",
      "iter = 5277/5913 (89.24%)\n",
      "iter = 5420/5913 (91.66%)\n",
      "iter = 5594/5913 (94.61%)\n",
      "t = 3\n",
      "iter = 660/3355 (19.67%)\n",
      "iter = 805/3355 (23.99%)\n",
      "iter = 937/3355 (27.93%)\n"
     ]
    }
   ],
   "source": [
    "pm2 = Problem(starting_price=np.array([91,90]), price_dynamics=ConstantDynamics(support=RectangularHandler([[-1, 1],[-.75, 1]]), type='add'),\n",
    "             trading_constraints=IdenticalMap(RealSpaceHandler()),\n",
    "             option=option4,\n",
    "             lattice=Lattice(delta=[.1,.1]), time_horizon=5)\n",
    "solver.iter_tick = 200\n",
    "sol3 = solver.solve(pm2)\n",
    "print('Value: {0}'.format(sol3['Vf'][0][0]))"
   ]
  }
 ],
 "metadata": {
  "kernelspec": {
   "display_name": "Python 3",
   "language": "python",
   "name": "python3"
  },
  "language_info": {
   "codemirror_mode": {
    "name": "ipython",
    "version": 3
   },
   "file_extension": ".py",
   "mimetype": "text/x-python",
   "name": "python",
   "nbconvert_exporter": "python",
   "pygments_lexer": "ipython3",
   "version": "3.9.2"
  }
 },
 "nbformat": 4,
 "nbformat_minor": 5
}
