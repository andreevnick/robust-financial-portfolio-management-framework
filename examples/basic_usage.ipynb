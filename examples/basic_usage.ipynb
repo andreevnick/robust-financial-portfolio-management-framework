{
 "cells": [
  {
   "cell_type": "markdown",
   "id": "right-qatar",
   "metadata": {},
   "source": [
    "# How-To, First Steps\n",
    "\n",
    "## Load package and create basic options"
   ]
  },
  {
   "cell_type": "code",
   "execution_count": 1,
   "id": "swiss-comedy",
   "metadata": {},
   "outputs": [],
   "source": [
    "import os\n",
    "import sys\n",
    "sys.path.insert(0, os.path.abspath('../'))\n",
    "\n",
    "from robustfpm.finance import make_option"
   ]
  },
  {
   "cell_type": "markdown",
   "id": "spread-hundred",
   "metadata": {},
   "source": [
    "Let's start with some basic options. Remember that 1D PutOnMax is just Put (the same goes for CallOnMax)"
   ]
  },
  {
   "cell_type": "code",
   "execution_count": 2,
   "id": "realistic-gates",
   "metadata": {},
   "outputs": [],
   "source": [
    "option1 = make_option(option_type='putonmax', strike=90)\n",
    "option2 = make_option(option_type='putonmax', strike=80, payoff_dates = 5)\n",
    "option3 = make_option(option_type='callonmax', strike=90, payoff_dates = [3,5])\n",
    "option4 = make_option(option_type='put2call1') # American Put2Call1 option"
   ]
  },
  {
   "cell_type": "markdown",
   "id": "amateur-reduction",
   "metadata": {},
   "source": [
    "Now let's see how these options got instantiated"
   ]
  },
  {
   "cell_type": "code",
   "execution_count": 3,
   "id": "circular-circuit",
   "metadata": {},
   "outputs": [
    {
     "name": "stdout",
     "output_type": "stream",
     "text": [
      "Option 1: <robustfpm.finance.derivatives.AmericanOption object at 0x10f13a400>\n",
      "Option 2: <robustfpm.finance.derivatives.EuropeanOption object at 0x10f13a760>\n",
      "Option 3: <robustfpm.finance.derivatives.BermudanOption object at 0x11dcdee80>\n",
      "Option 4: <robustfpm.finance.derivatives.AmericanOption object at 0x11dcdeeb0>\n"
     ]
    }
   ],
   "source": [
    "print('Option 1: {}'.format(option1))\n",
    "print('Option 2: {}'.format(option2))\n",
    "print('Option 3: {}'.format(option3))\n",
    "print('Option 4: {}'.format(option4))"
   ]
  },
  {
   "cell_type": "code",
   "execution_count": 4,
   "id": "apart-sunday",
   "metadata": {},
   "outputs": [
    {
     "name": "stdout",
     "output_type": "stream",
     "text": [
      "Option 1 payoff at x = 80, 90, and 100, t = 3: [10.  0.  0.]\n",
      "Option 2 payoff at x = 100, t = 3: [-inf]\n",
      "Option 3 payoff at x = 100, t = 3: [10.]\n",
      "Option 3 payoff at x = 100, t = 4: [-inf]\n"
     ]
    }
   ],
   "source": [
    "print('Option 1 payoff at x = 80, 90, and 100, t = 3: {}'.format(option1.payoff([[80], [90], [100]], 3)))\n",
    "print('Option 2 payoff at x = 100, t = 3: {}'.format(option2.payoff(100, 3)))\n",
    "print('Option 3 payoff at x = 100, t = 3: {}'.format(option3.payoff(100, 3)))\n",
    "print('Option 3 payoff at x = 100, t = 4: {}'.format(option3.payoff(100, 4)))"
   ]
  },
  {
   "cell_type": "markdown",
   "id": "deluxe-service",
   "metadata": {},
   "source": [
    "## Creating solver and solving some problems"
   ]
  },
  {
   "cell_type": "markdown",
   "id": "hydraulic-marijuana",
   "metadata": {},
   "source": [
    "Now let's create some basic 1D Problem with Rectangular multiplicative dynamics and no trading constraints. For that, we need module `robustfpm.pricing`"
   ]
  },
  {
   "cell_type": "code",
   "execution_count": 5,
   "id": "ceramic-cloud",
   "metadata": {},
   "outputs": [],
   "source": [
    "from robustfpm.pricing import *\n",
    "import numpy as np\n",
    "pm1 = Problem(starting_price=np.array(100), \n",
    "            price_dynamics=ConstantDynamics(support=RectangularHandler([.9, 1.1]), type='mult'),\n",
    "            trading_constraints=NoConstraints, option=option1, \n",
    "            lattice=Lattice(delta=[1]), \n",
    "            time_horizon=5)"
   ]
  },
  {
   "cell_type": "markdown",
   "id": "moving-military",
   "metadata": {},
   "source": [
    "Now we create solver with some parameters."
   ]
  },
  {
   "cell_type": "markdown",
   "id": "desirable-pixel",
   "metadata": {},
   "source": [
    "Most of the time, there is no point in tweaking *all* of these parameters, only some, namely `enable_timer` and `iter_tick`"
   ]
  },
  {
   "cell_type": "code",
   "execution_count": 6,
   "id": "accompanied-confidence",
   "metadata": {},
   "outputs": [],
   "source": [
    "opts = {'convex_hull_filter': 'qhull', 'convex_hull_prune_fail_count': 0,\n",
    "        'convex_hull_prune_success_count':0,'convex_hull_prune_corner_n': 3,'convex_hull_prune_seed': 0} \n",
    "solver = ConvhullSolver(enable_timer=True, pricer_options=opts, ignore_warnings=True, iter_tick=50)"
   ]
  },
  {
   "cell_type": "markdown",
   "id": "casual-width",
   "metadata": {},
   "source": [
    "Now we solve it and see the result $V_0(x_0)$"
   ]
  },
  {
   "cell_type": "code",
   "execution_count": 7,
   "id": "random-target",
   "metadata": {},
   "outputs": [
    {
     "name": "stdout",
     "output_type": "stream",
     "text": [
      "Precalculating points for value function evaluation: 0.1178 sec (CPU 0.1177 sec)\n",
      "Computing value function in the last point: 0.0000 sec (CPU 0.0000 sec)\n",
      "t = 4\n",
      "iter = 19/90 (21.11%)\n",
      "iter = 78/90 (86.67%)\n",
      "iter = 87/90 (96.67%)\n",
      "t = 3\n",
      "iter = 59/67 (88.06%)\n",
      "t = 2\n",
      "t = 1\n",
      "t = 0\n",
      "Computing value function in intermediate points in time: 0.4632 sec (CPU 0.4632 sec)\n",
      "Solving the problem: 0.5823 sec (CPU 0.5823 sec)\n",
      "Value: 5.327786420219619\n"
     ]
    }
   ],
   "source": [
    "sol1 = solver.solve(pm1)\n",
    "# the solution is simply a dictionary\n",
    "print('Value: {0}'.format(sol1['Vf'][0][0]))"
   ]
  },
  {
   "cell_type": "markdown",
   "id": "manufactured-public",
   "metadata": {},
   "source": [
    "Now let's also calculate and check precision"
   ]
  },
  {
   "cell_type": "code",
   "execution_count": 8,
   "id": "conditional-resort",
   "metadata": {},
   "outputs": [
    {
     "name": "stdout",
     "output_type": "stream",
     "text": [
      "Precalculating points for value function evaluation: 0.0866 sec (CPU 0.0866 sec)\n",
      "Computing A^* and Lipschitz constants for constraints: 0.0002 sec (CPU 0.0002 sec)\n",
      "Calculating precision: 0.0002 sec (CPU 0.0002 sec)\n",
      "Computing value function in the last point: 0.0000 sec (CPU 0.0000 sec)\n",
      "t = 4\n",
      "t = 3\n",
      "t = 2\n",
      "iter = 41/45 (91.11%)\n",
      "t = 1\n",
      "t = 0\n",
      "Computing value function in intermediate points in time: 0.4711 sec (CPU 0.4711 sec)\n",
      "Solving the problem: 0.5590 sec (CPU 0.5591 sec)\n",
      "Value: 5.327786420219619\n"
     ]
    }
   ],
   "source": [
    "sol1 = solver.solve(pm1, calc_precision = True, do_precalc=False)\n",
    "# the solution is simply a dictionary\n",
    "print('Value: {0}'.format(sol1['Vf'][0][0]))"
   ]
  },
  {
   "cell_type": "code",
   "execution_count": 9,
   "id": "ethical-indianapolis",
   "metadata": {},
   "outputs": [
    {
     "name": "stdout",
     "output_type": "stream",
     "text": [
      "Precision: [5.85182876 4.00129318 2.49774194 1.33225806 0.5        0.        ]\n"
     ]
    }
   ],
   "source": [
    "print('Precision: {0}'.format(sol1['precision']))"
   ]
  },
  {
   "cell_type": "markdown",
   "id": "congressional-natural",
   "metadata": {},
   "source": [
    "Let's play around and change Lattice step, especially since the error is too big."
   ]
  },
  {
   "cell_type": "code",
   "execution_count": 10,
   "id": "operating-medicaid",
   "metadata": {},
   "outputs": [
    {
     "name": "stdout",
     "output_type": "stream",
     "text": [
      "Precalculating points for value function evaluation: 0.7388 sec (CPU 0.7388 sec)\n",
      "Computing A^* and Lipschitz constants for constraints: 0.0004 sec (CPU 0.0004 sec)\n",
      "Calculating precision: 0.0002 sec (CPU 0.0002 sec)\n",
      "Computing value function in the last point: 0.0000 sec (CPU 0.0000 sec)\n",
      "t = 4\n",
      "iter = 52/818 (6.36%)\n",
      "iter = 170/818 (20.78%)\n",
      "iter = 196/818 (23.96%)\n",
      "iter = 207/818 (25.31%)\n",
      "iter = 218/818 (26.65%)\n",
      "iter = 227/818 (27.75%)\n",
      "iter = 330/818 (40.34%)\n",
      "iter = 394/818 (48.17%)\n",
      "iter = 398/818 (48.66%)\n",
      "iter = 543/818 (66.38%)\n",
      "iter = 575/818 (70.29%)\n",
      "iter = 595/818 (72.74%)\n",
      "iter = 614/818 (75.06%)\n",
      "iter = 616/818 (75.31%)\n",
      "iter = 650/818 (79.46%)\n",
      "iter = 657/818 (80.32%)\n",
      "iter = 730/818 (89.24%)\n",
      "iter = 738/818 (90.22%)\n",
      "iter = 752/818 (91.93%)\n",
      "t = 3\n",
      "iter = 64/609 (10.51%)\n",
      "iter = 156/609 (25.62%)\n",
      "iter = 397/609 (65.19%)\n",
      "iter = 603/609 (99.01%)\n",
      "t = 2\n",
      "iter = 15/405 (3.70%)\n",
      "iter = 266/405 (65.68%)\n",
      "iter = 280/405 (69.14%)\n",
      "t = 1\n",
      "iter = 38/203 (18.72%)\n",
      "iter = 43/203 (21.18%)\n",
      "iter = 61/203 (30.05%)\n",
      "iter = 81/203 (39.90%)\n",
      "iter = 89/203 (43.84%)\n",
      "iter = 90/203 (44.33%)\n",
      "iter = 114/203 (56.16%)\n",
      "iter = 142/203 (69.95%)\n",
      "iter = 145/203 (71.43%)\n",
      "iter = 149/203 (73.40%)\n",
      "iter = 161/203 (79.31%)\n",
      "iter = 182/203 (89.66%)\n",
      "t = 0\n",
      "Computing value function in intermediate points in time: 4.0549 sec (CPU 4.0550 sec)\n",
      "Solving the problem: 4.7953 sec (CPU 4.7954 sec)\n",
      "Value: 4.415097310413493\n",
      "Precision: [0.54685734 0.3765979  0.23769283 0.12907975 0.05       0.        ]\n"
     ]
    }
   ],
   "source": [
    "pm1.lattice = Lattice(delta=[.1])\n",
    "solver.reset()\n",
    "sol2 = solver.solve(pm1, calc_precision = True)\n",
    "print('Value: {0}'.format(sol2['Vf'][0][0]))\n",
    "print('Precision: {0}'.format(sol2['precision']))"
   ]
  },
  {
   "cell_type": "markdown",
   "id": "ranging-satellite",
   "metadata": {},
   "source": [
    "And what if we go to the extreme?"
   ]
  },
  {
   "cell_type": "code",
   "execution_count": 11,
   "id": "charitable-perry",
   "metadata": {},
   "outputs": [
    {
     "name": "stdout",
     "output_type": "stream",
     "text": [
      "Precalculating points for value function evaluation: 8.8045 sec (CPU 8.8046 sec)\n",
      "Computing A^* and Lipschitz constants for constraints: 0.0016 sec (CPU 0.0016 sec)\n",
      "Calculating precision: 0.0005 sec (CPU 0.0005 sec)\n",
      "Precision: [0.05427884 0.03741037 0.02364124 0.01286389 0.005      0.        ]\n"
     ]
    }
   ],
   "source": [
    "pm1.lattice = Lattice(delta=[.01])\n",
    "solver.reset() # otherwise, we get old precision\n",
    "precision = solver.get_precision(pm1)\n",
    "print('Precision: {0}'.format(precision))"
   ]
  },
  {
   "cell_type": "code",
   "execution_count": 12,
   "id": "ordinary-asbestos",
   "metadata": {},
   "outputs": [
    {
     "name": "stdout",
     "output_type": "stream",
     "text": [
      "Computing value function in the last point: 0.0006 sec (CPU 0.0006 sec)\n",
      "t = 4\n",
      "iter = 1322/8089 (16.34%)\n",
      "iter = 1415/8089 (17.49%)\n",
      "iter = 2529/8089 (31.26%)\n",
      "iter = 8071/8089 (99.78%)\n",
      "t = 3\n",
      "iter = 132/6027 (2.19%)\n",
      "iter = 696/6027 (11.55%)\n",
      "iter = 1813/6027 (30.08%)\n",
      "iter = 3267/6027 (54.21%)\n",
      "iter = 4036/6027 (66.97%)\n",
      "iter = 4403/6027 (73.05%)\n",
      "t = 2\n",
      "iter = 539/4005 (13.46%)\n",
      "iter = 1062/4005 (26.52%)\n",
      "iter = 1110/4005 (27.72%)\n",
      "iter = 2805/4005 (70.04%)\n",
      "iter = 3957/4005 (98.80%)\n",
      "t = 1\n",
      "iter = 46/2003 (2.30%)\n",
      "iter = 1435/2003 (71.64%)\n",
      "t = 0\n",
      "Computing value function in intermediate points in time: 47.9600 sec (CPU 47.9607 sec)\n",
      "Solving the problem: 47.9610 sec (CPU 47.9617 sec)\n",
      "Value: 4.322815140670112\n"
     ]
    }
   ],
   "source": [
    "solver.iter_tick = 1000\n",
    "sol3 = solver.solve(pm1, do_precalc=False)\n",
    "print('Value: {0}'.format(sol3['Vf'][0][0]))"
   ]
  },
  {
   "cell_type": "markdown",
   "id": "liked-final",
   "metadata": {},
   "source": [
    "A significant gain in precision — but not so much in the Value...\n",
    "\n",
    "That's because we give a *guaranteed* estimate for precision that depends on grid and assumes that the $v_t$ is the *worst*."
   ]
  },
  {
   "cell_type": "markdown",
   "id": "according-conversion",
   "metadata": {},
   "source": [
    "Let's try 2D Problem with another option and *additive* dynamics."
   ]
  },
  {
   "cell_type": "code",
   "execution_count": 13,
   "id": "pointed-adoption",
   "metadata": {},
   "outputs": [
    {
     "name": "stdout",
     "output_type": "stream",
     "text": [
      "Precalculating points for value function evaluation: 0.8877 sec (CPU 0.8877 sec)\n",
      "Computing A^* and Lipschitz constants for constraints: 0.0008 sec (CPU 0.0008 sec)\n",
      "Calculating precision: 0.0001 sec (CPU 0.0001 sec)\n",
      "Computing value function in the last point: 0.0004 sec (CPU 0.0004 sec)\n",
      "t = 4\n",
      "iter = 100/5913 (1.69%)\n",
      "iter = 310/5913 (5.24%)\n",
      "iter = 439/5913 (7.42%)\n",
      "iter = 987/5913 (16.69%)\n",
      "iter = 1222/5913 (20.67%)\n",
      "iter = 2048/5913 (34.64%)\n",
      "iter = 2933/5913 (49.60%)\n",
      "iter = 3935/5913 (66.55%)\n",
      "iter = 4538/5913 (76.75%)\n",
      "iter = 4913/5913 (83.09%)\n",
      "iter = 5137/5913 (86.88%)\n",
      "iter = 5275/5913 (89.21%)\n",
      "iter = 5331/5913 (90.16%)\n",
      "iter = 5800/5913 (98.09%)\n",
      "t = 3\n",
      "iter = 9/3355 (0.27%)\n",
      "iter = 38/3355 (1.13%)\n",
      "iter = 74/3355 (2.21%)\n",
      "iter = 1044/3355 (31.12%)\n",
      "iter = 1516/3355 (45.19%)\n",
      "iter = 1668/3355 (49.72%)\n",
      "iter = 1680/3355 (50.07%)\n",
      "iter = 1962/3355 (58.48%)\n",
      "iter = 2712/3355 (80.83%)\n",
      "iter = 2726/3355 (81.25%)\n",
      "iter = 2865/3355 (85.39%)\n",
      "iter = 2871/3355 (85.57%)\n",
      "t = 2\n",
      "iter = 659/1517 (43.44%)\n",
      "iter = 893/1517 (58.87%)\n",
      "iter = 1210/1517 (79.76%)\n",
      "t = 1\n",
      "iter = 214/399 (53.63%)\n",
      "iter = 223/399 (55.89%)\n",
      "t = 0\n",
      "Computing value function in intermediate points in time: 37.1339 sec (CPU 37.1344 sec)\n",
      "Solving the problem: 38.0245 sec (CPU 38.0251 sec)\n",
      "Value: 2.244970331346091\n",
      "Precision: [23.20320395  9.95000256  3.72746289  1.02025407  0.07071068  0.        ]\n"
     ]
    }
   ],
   "source": [
    "pm2 = Problem(starting_price=np.array([91,90]), price_dynamics=ConstantDynamics(support=RectangularHandler([[-1, 1],[-.75, 1]]), type='add'),\n",
    "             trading_constraints=IdenticalMap(RealSpaceHandler()),\n",
    "             option=option4,\n",
    "             lattice=Lattice(delta=[.1,.1]), time_horizon=5)\n",
    "solver.iter_tick = 500\n",
    "solver.reset()\n",
    "sol5 = solver.solve(pm2, calc_precision = True)\n",
    "print('Value: {0}'.format(sol5['Vf'][0][0]))\n",
    "print('Precision: {0}'.format(sol5['precision']))"
   ]
  },
  {
   "cell_type": "code",
   "execution_count": 14,
   "id": "neutral-mixture",
   "metadata": {},
   "outputs": [
    {
     "name": "stdout",
     "output_type": "stream",
     "text": [
      "Precalculating points for value function evaluation: 0.8502 sec (CPU 0.8502 sec)\n",
      "Computing A^* and Lipschitz constants for constraints: 0.0010 sec (CPU 0.0010 sec)\n",
      "Calculating precision: 0.0001 sec (CPU 0.0001 sec)\n",
      "Computing value function in the last point: 0.0006 sec (CPU 0.0006 sec)\n",
      "t = 4\n",
      "iter = 295/5913 (4.99%)\n",
      "iter = 663/5913 (11.21%)\n",
      "iter = 1664/5913 (28.14%)\n",
      "iter = 1828/5913 (30.91%)\n",
      "iter = 2342/5913 (39.61%)\n",
      "iter = 2957/5913 (50.01%)\n",
      "iter = 3161/5913 (53.46%)\n",
      "iter = 3395/5913 (57.42%)\n",
      "iter = 3402/5913 (57.53%)\n",
      "iter = 4115/5913 (69.59%)\n",
      "iter = 4124/5913 (69.74%)\n",
      "iter = 4186/5913 (70.79%)\n",
      "iter = 4206/5913 (71.13%)\n",
      "iter = 4574/5913 (77.35%)\n",
      "iter = 4939/5913 (83.53%)\n",
      "iter = 5047/5913 (85.35%)\n",
      "iter = 5107/5913 (86.37%)\n",
      "iter = 5329/5913 (90.12%)\n",
      "t = 3\n",
      "iter = 118/3355 (3.52%)\n",
      "iter = 1049/3355 (31.27%)\n",
      "iter = 1076/3355 (32.07%)\n",
      "iter = 1089/3355 (32.46%)\n",
      "iter = 2246/3355 (66.94%)\n",
      "iter = 2352/3355 (70.10%)\n",
      "iter = 3082/3355 (91.86%)\n",
      "iter = 3090/3355 (92.10%)\n",
      "t = 2\n",
      "iter = 10/1517 (0.66%)\n",
      "iter = 205/1517 (13.51%)\n",
      "iter = 384/1517 (25.31%)\n",
      "t = 1\n",
      "iter = 150/399 (37.59%)\n",
      "iter = 305/399 (76.44%)\n",
      "t = 0\n",
      "Computing value function in intermediate points in time: 38.9959 sec (CPU 38.9964 sec)\n",
      "Solving the problem: 39.8492 sec (CPU 39.8498 sec)\n",
      "Value: 2.244970331346091\n",
      "Precision: [23.20320395  9.95000256  3.72746289  1.02025407  0.07071068  0.        ]\n"
     ]
    }
   ],
   "source": [
    "pm3 = Problem(starting_price=np.array([91,90]), price_dynamics=ConstantDynamics(support=RectangularHandler([[-1, 1],[-.75, 1]]), type='add'),\n",
    "             trading_constraints=IdenticalMap(RealSpaceHandler()),\n",
    "             option=option4,\n",
    "             lattice=Lattice(delta=[.1,.1]), time_horizon=5)\n",
    "solver.iter_tick = 500\n",
    "solver.reset()\n",
    "sol6 = solver.solve(pm3, calc_precision = True)\n",
    "print('Value: {0}'.format(sol6['Vf'][0][0]))\n",
    "print('Precision: {0}'.format(sol6['precision']))"
   ]
  },
  {
   "cell_type": "code",
   "execution_count": 15,
   "id": "smaller-pocket",
   "metadata": {},
   "outputs": [
    {
     "name": "stdout",
     "output_type": "stream",
     "text": [
      "Precalculating points for value function evaluation: 0.9063 sec (CPU 0.9063 sec)\n",
      "Computing A^* and Lipschitz constants for constraints: 16.6683 sec (CPU 16.6641 sec)\n",
      "Calculating precision: 0.0001 sec (CPU 0.0001 sec)\n",
      "Computing value function in the last point: 0.0008 sec (CPU 0.0008 sec)\n",
      "t = 4\n",
      "iter = 949/5913 (16.05%)\n",
      "iter = 1526/5913 (25.81%)\n",
      "iter = 2412/5913 (40.79%)\n",
      "iter = 2616/5913 (44.24%)\n",
      "iter = 3361/5913 (56.84%)\n",
      "iter = 4184/5913 (70.76%)\n",
      "iter = 4397/5913 (74.36%)\n",
      "t = 3\n",
      "iter = 372/3355 (11.09%)\n",
      "iter = 419/3355 (12.49%)\n",
      "iter = 934/3355 (27.84%)\n",
      "iter = 1111/3355 (33.11%)\n",
      "iter = 1514/3355 (45.13%)\n",
      "t = 2\n",
      "iter = 1205/1517 (79.43%)\n",
      "iter = 1314/1517 (86.62%)\n",
      "t = 1\n",
      "iter = 10/399 (2.51%)\n",
      "t = 0\n",
      "Computing value function in intermediate points in time: 46 min 24.3658 sec (CPU 46 min 24.3499 sec)\n",
      "Solving the problem: 46 min 41.9433 sec (CPU 46 min 41.9232 sec)\n",
      "Value: 5.000000155687845\n",
      "Precision: [23.12112905  9.91527857  3.71483598  1.01709734  0.07071068  0.        ]\n"
     ]
    }
   ],
   "source": [
    "pm4 = Problem(starting_price=np.array([91,90]), price_dynamics=ConstantDynamics(support=RectangularHandler([[-1, 1],[-.75, 1]]), type='add'),\n",
    "             trading_constraints=LongOnlyConstraints,\n",
    "             option=option4,\n",
    "             lattice=Lattice(delta=[.1,.1]), time_horizon=5)\n",
    "solver.iter_tick = 500\n",
    "solver.reset()\n",
    "sol7 = solver.solve(pm4, calc_precision = True)\n",
    "print('Value: {0}'.format(sol7['Vf'][0][0]))\n",
    "print('Precision: {0}'.format(sol7['precision']))"
   ]
  }
 ],
 "metadata": {
  "kernelspec": {
   "display_name": "Python 3",
   "language": "python",
   "name": "python3"
  },
  "language_info": {
   "codemirror_mode": {
    "name": "ipython",
    "version": 3
   },
   "file_extension": ".py",
   "mimetype": "text/x-python",
   "name": "python",
   "nbconvert_exporter": "python",
   "pygments_lexer": "ipython3",
   "version": "3.9.2"
  }
 },
 "nbformat": 4,
 "nbformat_minor": 5
}
