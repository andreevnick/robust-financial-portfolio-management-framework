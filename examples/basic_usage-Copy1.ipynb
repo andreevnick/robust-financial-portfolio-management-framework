{
 "cells": [
  {
   "cell_type": "markdown",
   "metadata": {},
   "source": [
    "# How-To, First Steps\n",
    "\n",
    "## Load package and create basic options"
   ]
  },
  {
   "cell_type": "code",
   "execution_count": 1,
   "metadata": {},
   "outputs": [],
   "source": [
    "import os\n",
    "import sys\n",
    "sys.path.insert(0, os.path.abspath('../'))\n",
    "\n",
    "from robustfpm.finance import make_option"
   ]
  },
  {
   "cell_type": "markdown",
   "metadata": {},
   "source": [
    "Let's start with some basic options. Remember that 1D PutOnMax is just Put (the same goes for CallOnMax)"
   ]
  },
  {
   "cell_type": "code",
   "execution_count": 2,
   "metadata": {},
   "outputs": [],
   "source": [
    "option1 = make_option(option_type='putonmax', strike=90)\n",
    "option2 = make_option(option_type='putonmax', strike=80, payoff_dates = 5)\n",
    "option3 = make_option(option_type='callonmax', strike=90, payoff_dates = [3,5])\n",
    "option4 = make_option(option_type='put2call1') # American Put2Call1 option"
   ]
  },
  {
   "cell_type": "markdown",
   "metadata": {},
   "source": [
    "Now let's see how these options got instantiated"
   ]
  },
  {
   "cell_type": "code",
   "execution_count": 4,
   "metadata": {},
   "outputs": [
    {
     "name": "stdout",
     "output_type": "stream",
     "text": [
      "Option 1: <robustfpm.finance.derivatives.AmericanOption object at 0x0000000005BF5D30>\n",
      "Option 2: <robustfpm.finance.derivatives.EuropeanOption object at 0x0000000005BF5DA0>\n",
      "Option 3: <robustfpm.finance.derivatives.BermudanOption object at 0x0000000005BF5DD8>\n",
      "Option 4: <robustfpm.finance.derivatives.AmericanOption object at 0x000000000598E8D0>\n"
     ]
    }
   ],
   "source": [
    "print('Option 1: {}'.format(option1))\n",
    "print('Option 2: {}'.format(option2))\n",
    "print('Option 3: {}'.format(option3))\n",
    "print('Option 4: {}'.format(option4))"
   ]
  },
  {
   "cell_type": "code",
   "execution_count": 5,
   "metadata": {},
   "outputs": [
    {
     "name": "stdout",
     "output_type": "stream",
     "text": [
      "Option 1 payoff at x = 80, 90, and 100, t = 3: [10.  0.  0.]\n",
      "Option 2 payoff at x = 100, t = 3: [-inf]\n",
      "Option 3 payoff at x = 100, t = 3: [10.]\n",
      "Option 3 payoff at x = 100, t = 4: [-inf]\n"
     ]
    }
   ],
   "source": [
    "print('Option 1 payoff at x = 80, 90, and 100, t = 3: {}'.format(option1.payoff([[80], [90], [100]], 3)))\n",
    "print('Option 2 payoff at x = 100, t = 3: {}'.format(option2.payoff(100, 3)))\n",
    "print('Option 3 payoff at x = 100, t = 3: {}'.format(option3.payoff(100, 3)))\n",
    "print('Option 3 payoff at x = 100, t = 4: {}'.format(option3.payoff(100, 4)))"
   ]
  },
  {
   "cell_type": "markdown",
   "metadata": {},
   "source": [
    "## Creating solver and solving some problems"
   ]
  },
  {
   "cell_type": "markdown",
   "metadata": {},
   "source": [
    "Now let's create some basic 1D Problem with Rectangular multiplicative dynamics and no trading constraints. For that, we need module `robustfpm.pricing`"
   ]
  },
  {
   "cell_type": "code",
   "execution_count": 6,
   "metadata": {},
   "outputs": [],
   "source": [
    "from robustfpm.pricing import *\n",
    "import numpy as np\n",
    "pm1 = Problem(starting_price=np.array(100), \n",
    "            price_dynamics=ConstantDynamics(support=RectangularHandler([.9, 1.1]), type='mult'),\n",
    "            trading_constraints=NoConstraints, option=option1, \n",
    "            lattice=Lattice(delta=[1]), \n",
    "            time_horizon=5)"
   ]
  },
  {
   "cell_type": "markdown",
   "metadata": {},
   "source": [
    "Now we create solver with some parameters."
   ]
  },
  {
   "cell_type": "markdown",
   "metadata": {},
   "source": [
    "Most of the time, there is no point in tweaking *all* of these parameters, only some, namely `enable_timer` and `iter_tick`"
   ]
  },
  {
   "cell_type": "code",
   "execution_count": 7,
   "metadata": {},
   "outputs": [],
   "source": [
    "opts = {'convex_hull_filter': 'qhull', 'convex_hull_prune_fail_count': 0,\n",
    "        'convex_hull_prune_success_count':0,'convex_hull_prune_corner_n': 3,'convex_hull_prune_seed': 0} \n",
    "solver = ConvhullSolver(enable_timer=True, pricer_options=opts, ignore_warnings=True, iter_tick=50)"
   ]
  },
  {
   "cell_type": "markdown",
   "metadata": {},
   "source": [
    "Now we solve it and see the result $V_0(x_0)$"
   ]
  },
  {
   "cell_type": "code",
   "execution_count": 8,
   "metadata": {},
   "outputs": [
    {
     "name": "stdout",
     "output_type": "stream",
     "text": [
      "Precalculating points for value function evaluation: 0.1060 sec (CPU 0.1064 sec)\n",
      "Computing value function in the last point: 0.0000 sec (CPU 0.0000 sec)\n",
      "t = 4\n",
      "iter = 4/90 (4.44%)\n",
      "iter = 22/90 (24.44%)\n",
      "iter = 23/90 (25.56%)\n",
      "iter = 24/90 (26.67%)\n",
      "iter = 46/90 (51.11%)\n",
      "t = 3\n",
      "iter = 14/67 (20.90%)\n",
      "iter = 44/67 (65.67%)\n",
      "iter = 65/67 (97.01%)\n",
      "t = 2\n",
      "iter = 0/45 (0.00%)\n",
      "iter = 6/45 (13.33%)\n",
      "t = 1\n",
      "t = 0\n",
      "Computing value function in intermediate points in time: 1.0621 sec (CPU 1.0623 sec)\n",
      "Solving the problem: 1.1701 sec (CPU 1.1696 sec)\n",
      "Value: 5.327786420207287\n"
     ]
    }
   ],
   "source": [
    "sol1 = solver.solve(pm1)\n",
    "# the solution is simply a dictionary\n",
    "print('Value: {0}'.format(sol1['Vf'][0][0]))"
   ]
  },
  {
   "cell_type": "markdown",
   "metadata": {},
   "source": [
    "Let's play around and change Lattice step"
   ]
  },
  {
   "cell_type": "code",
   "execution_count": 9,
   "metadata": {},
   "outputs": [
    {
     "name": "stdout",
     "output_type": "stream",
     "text": [
      "Precalculating points for value function evaluation: 0.9381 sec (CPU 0.9383 sec)\n",
      "Computing value function in the last point: 0.0010 sec (CPU 0.0003 sec)\n",
      "t = 4\n",
      "iter = 23/818 (2.81%)\n",
      "iter = 82/818 (10.02%)\n",
      "iter = 122/818 (14.91%)\n",
      "iter = 175/818 (21.39%)\n",
      "iter = 215/818 (26.28%)\n",
      "iter = 221/818 (27.02%)\n",
      "iter = 251/818 (30.68%)\n",
      "iter = 256/818 (31.30%)\n",
      "iter = 260/818 (31.78%)\n",
      "iter = 291/818 (35.57%)\n",
      "iter = 326/818 (39.85%)\n",
      "iter = 336/818 (41.08%)\n",
      "iter = 375/818 (45.84%)\n",
      "iter = 468/818 (57.21%)\n",
      "iter = 590/818 (72.13%)\n",
      "iter = 612/818 (74.82%)\n",
      "iter = 646/818 (78.97%)\n",
      "iter = 652/818 (79.71%)\n",
      "iter = 690/818 (84.35%)\n",
      "iter = 707/818 (86.43%)\n",
      "t = 3\n",
      "iter = 82/609 (13.46%)\n",
      "iter = 89/609 (14.61%)\n",
      "iter = 116/609 (19.05%)\n",
      "iter = 122/609 (20.03%)\n",
      "iter = 127/609 (20.85%)\n",
      "iter = 175/609 (28.74%)\n",
      "iter = 193/609 (31.69%)\n",
      "iter = 197/609 (32.35%)\n",
      "iter = 225/609 (36.95%)\n",
      "iter = 334/609 (54.84%)\n",
      "iter = 353/609 (57.96%)\n",
      "iter = 441/609 (72.41%)\n",
      "iter = 475/609 (78.00%)\n",
      "iter = 477/609 (78.33%)\n",
      "iter = 487/609 (79.97%)\n",
      "iter = 562/609 (92.28%)\n",
      "iter = 579/609 (95.07%)\n",
      "t = 2\n",
      "iter = 53/405 (13.09%)\n",
      "iter = 134/405 (33.09%)\n",
      "iter = 160/405 (39.51%)\n",
      "iter = 259/405 (63.95%)\n",
      "iter = 327/405 (80.74%)\n",
      "iter = 344/405 (84.94%)\n",
      "iter = 345/405 (85.19%)\n",
      "iter = 367/405 (90.62%)\n",
      "iter = 382/405 (94.32%)\n",
      "t = 1\n",
      "iter = 63/203 (31.03%)\n",
      "iter = 125/203 (61.58%)\n",
      "iter = 180/203 (88.67%)\n",
      "iter = 195/203 (96.06%)\n",
      "t = 0\n",
      "Computing value function in intermediate points in time: 7.4634 sec (CPU 7.4629 sec)\n",
      "Solving the problem: 8.4025 sec (CPU 8.4025 sec)\n",
      "Value: 4.41509729681583\n"
     ]
    }
   ],
   "source": [
    "pm1.lattice = Lattice(delta=[.1])\n",
    "sol2 = solver.solve(pm1)\n",
    "print('Value: {0}'.format(sol2['Vf'][0][0]))"
   ]
  },
  {
   "cell_type": "markdown",
   "metadata": {},
   "source": [
    "Let's try 2D Problem with another option and *additive* dynamics."
   ]
  },
  {
   "cell_type": "code",
   "execution_count": 10,
   "metadata": {},
   "outputs": [
    {
     "name": "stdout",
     "output_type": "stream",
     "text": [
      "Precalculating points for value function evaluation: 1.0551 sec (CPU 1.0547 sec)\n",
      "Computing value function in the last point: 0.0010 sec (CPU 0.0004 sec)\n",
      "t = 4\n",
      "iter = 49/5913 (0.83%)\n",
      "iter = 81/5913 (1.37%)\n",
      "iter = 267/5913 (4.52%)\n",
      "iter = 557/5913 (9.42%)\n",
      "iter = 954/5913 (16.13%)\n",
      "iter = 1068/5913 (18.06%)\n",
      "iter = 2374/5913 (40.15%)\n",
      "iter = 2459/5913 (41.59%)\n",
      "iter = 2674/5913 (45.22%)\n",
      "iter = 2687/5913 (45.44%)\n",
      "iter = 2849/5913 (48.18%)\n",
      "iter = 3661/5913 (61.91%)\n",
      "iter = 3750/5913 (63.42%)\n",
      "iter = 4502/5913 (76.14%)\n",
      "iter = 4737/5913 (80.11%)\n",
      "iter = 4941/5913 (83.56%)\n",
      "iter = 5028/5913 (85.03%)\n",
      "iter = 5308/5913 (89.77%)\n",
      "iter = 5513/5913 (93.24%)\n",
      "iter = 5541/5913 (93.71%)\n",
      "iter = 5607/5913 (94.82%)\n",
      "t = 3\n",
      "iter = 3/3355 (0.09%)\n",
      "iter = 91/3355 (2.71%)\n",
      "iter = 417/3355 (12.43%)\n",
      "iter = 494/3355 (14.72%)\n",
      "iter = 594/3355 (17.70%)\n",
      "iter = 627/3355 (18.69%)\n",
      "iter = 675/3355 (20.12%)\n",
      "iter = 1195/3355 (35.62%)\n",
      "iter = 1209/3355 (36.04%)\n",
      "iter = 1234/3355 (36.78%)\n",
      "iter = 1347/3355 (40.15%)\n",
      "iter = 1439/3355 (42.89%)\n",
      "iter = 1574/3355 (46.92%)\n",
      "iter = 1595/3355 (47.54%)\n",
      "iter = 1716/3355 (51.15%)\n",
      "iter = 1801/3355 (53.68%)\n",
      "iter = 2102/3355 (62.65%)\n",
      "iter = 2180/3355 (64.98%)\n",
      "iter = 2327/3355 (69.36%)\n",
      "iter = 2461/3355 (73.35%)\n",
      "iter = 2887/3355 (86.05%)\n",
      "iter = 2904/3355 (86.56%)\n",
      "iter = 2974/3355 (88.64%)\n",
      "iter = 3030/3355 (90.31%)\n",
      "iter = 3069/3355 (91.48%)\n",
      "t = 2\n",
      "iter = 433/1517 (28.54%)\n",
      "iter = 484/1517 (31.91%)\n",
      "iter = 739/1517 (48.71%)\n",
      "iter = 1440/1517 (94.92%)\n",
      "t = 1\n",
      "iter = 12/399 (3.01%)\n",
      "iter = 26/399 (6.52%)\n",
      "iter = 107/399 (26.82%)\n",
      "iter = 314/399 (78.70%)\n",
      "t = 0\n",
      "Computing value function in intermediate points in time: 1 min 7.6609 sec (CPU 1 min 7.6596 sec)\n",
      "Solving the problem: 1 min 8.7179 sec (CPU 1 min 8.7163 sec)\n",
      "Value: 2.244970331349585\n"
     ]
    }
   ],
   "source": [
    "pm2 = Problem(starting_price=np.array([91,90]), price_dynamics=ConstantDynamics(support=RectangularHandler([[-1, 1],[-.75, 1]]), type='add'),\n",
    "             trading_constraints=IdenticalMap(RealSpaceHandler()),\n",
    "             option=option4,\n",
    "             lattice=Lattice(delta=[.1,.1]), time_horizon=5)\n",
    "solver.iter_tick = 200\n",
    "sol3 = solver.solve(pm2)\n",
    "print('Value: {0}'.format(sol3['Vf'][0][0]))"
   ]
  },
  {
   "cell_type": "code",
   "execution_count": null,
   "metadata": {},
   "outputs": [],
   "source": []
  }
 ],
 "metadata": {
  "kernelspec": {
   "display_name": "Python 3",
   "language": "python",
   "name": "python3"
  },
  "language_info": {
   "codemirror_mode": {
    "name": "ipython",
    "version": 3
   },
   "file_extension": ".py",
   "mimetype": "text/x-python",
   "name": "python",
   "nbconvert_exporter": "python",
   "pygments_lexer": "ipython3",
   "version": "3.7.0"
  }
 },
 "nbformat": 4,
 "nbformat_minor": 5
}
